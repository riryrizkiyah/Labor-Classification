{
  "nbformat": 4,
  "nbformat_minor": 0,
  "metadata": {
    "colab": {
      "provenance": []
    },
    "kernelspec": {
      "name": "python3",
      "display_name": "Python 3"
    },
    "language_info": {
      "name": "python"
    }
  },
  "cells": [
    {
      "cell_type": "code",
      "execution_count": 1,
      "metadata": {
        "id": "p4ZVHYGmx2vU"
      },
      "outputs": [],
      "source": [
        "import pandas as pd\n",
        "import numpy as np\n",
        "import matplotlib.pyplot as plt\n",
        "import seaborn as sns"
      ]
    },
    {
      "cell_type": "code",
      "source": [
        "!pip install pyreadstat"
      ],
      "metadata": {
        "colab": {
          "base_uri": "https://localhost:8080/"
        },
        "id": "ihi1gLe7yG9a",
        "outputId": "6b663e31-61e9-4f55-a6c6-d22bd290d51a"
      },
      "execution_count": 2,
      "outputs": [
        {
          "output_type": "stream",
          "name": "stdout",
          "text": [
            "Looking in indexes: https://pypi.org/simple, https://us-python.pkg.dev/colab-wheels/public/simple/\n",
            "Collecting pyreadstat\n",
            "  Downloading pyreadstat-1.1.9-cp37-cp37m-manylinux_2_17_x86_64.manylinux2014_x86_64.whl (2.5 MB)\n",
            "\u001b[K     |████████████████████████████████| 2.5 MB 4.9 MB/s \n",
            "\u001b[?25hRequirement already satisfied: pandas>=1.2.0 in /usr/local/lib/python3.7/dist-packages (from pyreadstat) (1.3.5)\n",
            "Requirement already satisfied: python-dateutil>=2.7.3 in /usr/local/lib/python3.7/dist-packages (from pandas>=1.2.0->pyreadstat) (2.8.2)\n",
            "Requirement already satisfied: numpy>=1.17.3 in /usr/local/lib/python3.7/dist-packages (from pandas>=1.2.0->pyreadstat) (1.21.6)\n",
            "Requirement already satisfied: pytz>=2017.3 in /usr/local/lib/python3.7/dist-packages (from pandas>=1.2.0->pyreadstat) (2022.4)\n",
            "Requirement already satisfied: six>=1.5 in /usr/local/lib/python3.7/dist-packages (from python-dateutil>=2.7.3->pandas>=1.2.0->pyreadstat) (1.15.0)\n",
            "Installing collected packages: pyreadstat\n",
            "Successfully installed pyreadstat-1.1.9\n"
          ]
        }
      ]
    },
    {
      "cell_type": "code",
      "source": [
        "import pyreadstat"
      ],
      "metadata": {
        "id": "M91aOGuqyK9F"
      },
      "execution_count": 3,
      "outputs": []
    },
    {
      "cell_type": "markdown",
      "source": [
        "## **Data dan Sumber Data**\n",
        "\n",
        "Data yang digunakan adalah data Survei Angkatan Kerja Nasional Semester 2 - 2020 (Sakernas, 2020 - II) di Provinsi Maluku Utara\n",
        "\n",
        "Kuesioner: https://sirusa.bps.go.id/sirusa/index.php/kuesioner/2620"
      ],
      "metadata": {
        "id": "ZIR9dXDvkEaS"
      }
    },
    {
      "cell_type": "code",
      "source": [
        "df, meta = pyreadstat.read_sav('/content/sakernas82.sav')"
      ],
      "metadata": {
        "id": "8ZxvvCq1yOJe"
      },
      "execution_count": 4,
      "outputs": []
    },
    {
      "cell_type": "code",
      "source": [
        "df.info()"
      ],
      "metadata": {
        "colab": {
          "base_uri": "https://localhost:8080/"
        },
        "id": "yKfjrbh6ypP2",
        "outputId": "32f71935-afaa-42a7-d136-4d017ca0eaac"
      },
      "execution_count": 5,
      "outputs": [
        {
          "output_type": "stream",
          "name": "stdout",
          "text": [
            "<class 'pandas.core.frame.DataFrame'>\n",
            "RangeIndex: 11826 entries, 0 to 11825\n",
            "Columns: 136 entries, D_R to didikpub\n",
            "dtypes: float64(132), object(4)\n",
            "memory usage: 12.3+ MB\n"
          ]
        }
      ]
    },
    {
      "cell_type": "markdown",
      "source": [
        "**Observation**: it has 11.826 records with 136 columns/variables"
      ],
      "metadata": {
        "id": "WLr14oJb0weK"
      }
    },
    {
      "cell_type": "code",
      "source": [
        "df.head()"
      ],
      "metadata": {
        "colab": {
          "base_uri": "https://localhost:8080/",
          "height": 386
        },
        "id": "EAdyXRDfyvlg",
        "outputId": "c5f09943-3c6a-45e1-a813-e34715d88946"
      },
      "execution_count": 6,
      "outputs": [
        {
          "output_type": "execute_result",
          "data": {
            "text/plain": [
              "  D_R    tahun     urutan smt  final_weig  kode_prov     nama_prov  kode_kab  \\\n",
              "0      20208.0  1009824.0   2        41.0       82.0  MALUKU UTARA       1.0   \n",
              "1      20208.0  1009827.0   2        49.0       82.0  MALUKU UTARA       1.0   \n",
              "2      20208.0  1009830.0   2        83.0       82.0  MALUKU UTARA       1.0   \n",
              "3      20208.0  1009831.0   2        64.0       82.0  MALUKU UTARA       1.0   \n",
              "4      20208.0  1009833.0   2        67.0       82.0  MALUKU UTARA       1.0   \n",
              "\n",
              "          nama_kab  no_dsrt  ...  r30a  r30b  r31a  r31b  r31c  r31d  \\\n",
              "0  HALMAHERA BARAT      1.0  ...   0.0   0.0   2.0   1.0   2.0   2.0   \n",
              "1  HALMAHERA BARAT      2.0  ...   0.0   0.0   2.0   1.0   2.0   2.0   \n",
              "2  HALMAHERA BARAT      2.0  ...   0.0   0.0   2.0   1.0   2.0   2.0   \n",
              "3  HALMAHERA BARAT      4.0  ...   0.0   0.0   2.0   1.0   2.0   2.0   \n",
              "4  HALMAHERA BARAT      5.0  ...   0.0   0.0   2.0   1.0   2.0   2.0   \n",
              "\n",
              "   JenisKegiatan  AK3  umurpub  didikpub  \n",
              "0            5.0  3.0     12.0       3.0  \n",
              "1            5.0  3.0      7.0       5.0  \n",
              "2            5.0  3.0      4.0       6.0  \n",
              "3            5.0  3.0     12.0       3.0  \n",
              "4            5.0  3.0      5.0       5.0  \n",
              "\n",
              "[5 rows x 136 columns]"
            ],
            "text/html": [
              "\n",
              "  <div id=\"df-574f9a66-7ae1-4a06-8fdc-668549eb82ee\">\n",
              "    <div class=\"colab-df-container\">\n",
              "      <div>\n",
              "<style scoped>\n",
              "    .dataframe tbody tr th:only-of-type {\n",
              "        vertical-align: middle;\n",
              "    }\n",
              "\n",
              "    .dataframe tbody tr th {\n",
              "        vertical-align: top;\n",
              "    }\n",
              "\n",
              "    .dataframe thead th {\n",
              "        text-align: right;\n",
              "    }\n",
              "</style>\n",
              "<table border=\"1\" class=\"dataframe\">\n",
              "  <thead>\n",
              "    <tr style=\"text-align: right;\">\n",
              "      <th></th>\n",
              "      <th>D_R</th>\n",
              "      <th>tahun</th>\n",
              "      <th>urutan</th>\n",
              "      <th>smt</th>\n",
              "      <th>final_weig</th>\n",
              "      <th>kode_prov</th>\n",
              "      <th>nama_prov</th>\n",
              "      <th>kode_kab</th>\n",
              "      <th>nama_kab</th>\n",
              "      <th>no_dsrt</th>\n",
              "      <th>...</th>\n",
              "      <th>r30a</th>\n",
              "      <th>r30b</th>\n",
              "      <th>r31a</th>\n",
              "      <th>r31b</th>\n",
              "      <th>r31c</th>\n",
              "      <th>r31d</th>\n",
              "      <th>JenisKegiatan</th>\n",
              "      <th>AK3</th>\n",
              "      <th>umurpub</th>\n",
              "      <th>didikpub</th>\n",
              "    </tr>\n",
              "  </thead>\n",
              "  <tbody>\n",
              "    <tr>\n",
              "      <th>0</th>\n",
              "      <td></td>\n",
              "      <td>20208.0</td>\n",
              "      <td>1009824.0</td>\n",
              "      <td>2</td>\n",
              "      <td>41.0</td>\n",
              "      <td>82.0</td>\n",
              "      <td>MALUKU UTARA</td>\n",
              "      <td>1.0</td>\n",
              "      <td>HALMAHERA BARAT</td>\n",
              "      <td>1.0</td>\n",
              "      <td>...</td>\n",
              "      <td>0.0</td>\n",
              "      <td>0.0</td>\n",
              "      <td>2.0</td>\n",
              "      <td>1.0</td>\n",
              "      <td>2.0</td>\n",
              "      <td>2.0</td>\n",
              "      <td>5.0</td>\n",
              "      <td>3.0</td>\n",
              "      <td>12.0</td>\n",
              "      <td>3.0</td>\n",
              "    </tr>\n",
              "    <tr>\n",
              "      <th>1</th>\n",
              "      <td></td>\n",
              "      <td>20208.0</td>\n",
              "      <td>1009827.0</td>\n",
              "      <td>2</td>\n",
              "      <td>49.0</td>\n",
              "      <td>82.0</td>\n",
              "      <td>MALUKU UTARA</td>\n",
              "      <td>1.0</td>\n",
              "      <td>HALMAHERA BARAT</td>\n",
              "      <td>2.0</td>\n",
              "      <td>...</td>\n",
              "      <td>0.0</td>\n",
              "      <td>0.0</td>\n",
              "      <td>2.0</td>\n",
              "      <td>1.0</td>\n",
              "      <td>2.0</td>\n",
              "      <td>2.0</td>\n",
              "      <td>5.0</td>\n",
              "      <td>3.0</td>\n",
              "      <td>7.0</td>\n",
              "      <td>5.0</td>\n",
              "    </tr>\n",
              "    <tr>\n",
              "      <th>2</th>\n",
              "      <td></td>\n",
              "      <td>20208.0</td>\n",
              "      <td>1009830.0</td>\n",
              "      <td>2</td>\n",
              "      <td>83.0</td>\n",
              "      <td>82.0</td>\n",
              "      <td>MALUKU UTARA</td>\n",
              "      <td>1.0</td>\n",
              "      <td>HALMAHERA BARAT</td>\n",
              "      <td>2.0</td>\n",
              "      <td>...</td>\n",
              "      <td>0.0</td>\n",
              "      <td>0.0</td>\n",
              "      <td>2.0</td>\n",
              "      <td>1.0</td>\n",
              "      <td>2.0</td>\n",
              "      <td>2.0</td>\n",
              "      <td>5.0</td>\n",
              "      <td>3.0</td>\n",
              "      <td>4.0</td>\n",
              "      <td>6.0</td>\n",
              "    </tr>\n",
              "    <tr>\n",
              "      <th>3</th>\n",
              "      <td></td>\n",
              "      <td>20208.0</td>\n",
              "      <td>1009831.0</td>\n",
              "      <td>2</td>\n",
              "      <td>64.0</td>\n",
              "      <td>82.0</td>\n",
              "      <td>MALUKU UTARA</td>\n",
              "      <td>1.0</td>\n",
              "      <td>HALMAHERA BARAT</td>\n",
              "      <td>4.0</td>\n",
              "      <td>...</td>\n",
              "      <td>0.0</td>\n",
              "      <td>0.0</td>\n",
              "      <td>2.0</td>\n",
              "      <td>1.0</td>\n",
              "      <td>2.0</td>\n",
              "      <td>2.0</td>\n",
              "      <td>5.0</td>\n",
              "      <td>3.0</td>\n",
              "      <td>12.0</td>\n",
              "      <td>3.0</td>\n",
              "    </tr>\n",
              "    <tr>\n",
              "      <th>4</th>\n",
              "      <td></td>\n",
              "      <td>20208.0</td>\n",
              "      <td>1009833.0</td>\n",
              "      <td>2</td>\n",
              "      <td>67.0</td>\n",
              "      <td>82.0</td>\n",
              "      <td>MALUKU UTARA</td>\n",
              "      <td>1.0</td>\n",
              "      <td>HALMAHERA BARAT</td>\n",
              "      <td>5.0</td>\n",
              "      <td>...</td>\n",
              "      <td>0.0</td>\n",
              "      <td>0.0</td>\n",
              "      <td>2.0</td>\n",
              "      <td>1.0</td>\n",
              "      <td>2.0</td>\n",
              "      <td>2.0</td>\n",
              "      <td>5.0</td>\n",
              "      <td>3.0</td>\n",
              "      <td>5.0</td>\n",
              "      <td>5.0</td>\n",
              "    </tr>\n",
              "  </tbody>\n",
              "</table>\n",
              "<p>5 rows × 136 columns</p>\n",
              "</div>\n",
              "      <button class=\"colab-df-convert\" onclick=\"convertToInteractive('df-574f9a66-7ae1-4a06-8fdc-668549eb82ee')\"\n",
              "              title=\"Convert this dataframe to an interactive table.\"\n",
              "              style=\"display:none;\">\n",
              "        \n",
              "  <svg xmlns=\"http://www.w3.org/2000/svg\" height=\"24px\"viewBox=\"0 0 24 24\"\n",
              "       width=\"24px\">\n",
              "    <path d=\"M0 0h24v24H0V0z\" fill=\"none\"/>\n",
              "    <path d=\"M18.56 5.44l.94 2.06.94-2.06 2.06-.94-2.06-.94-.94-2.06-.94 2.06-2.06.94zm-11 1L8.5 8.5l.94-2.06 2.06-.94-2.06-.94L8.5 2.5l-.94 2.06-2.06.94zm10 10l.94 2.06.94-2.06 2.06-.94-2.06-.94-.94-2.06-.94 2.06-2.06.94z\"/><path d=\"M17.41 7.96l-1.37-1.37c-.4-.4-.92-.59-1.43-.59-.52 0-1.04.2-1.43.59L10.3 9.45l-7.72 7.72c-.78.78-.78 2.05 0 2.83L4 21.41c.39.39.9.59 1.41.59.51 0 1.02-.2 1.41-.59l7.78-7.78 2.81-2.81c.8-.78.8-2.07 0-2.86zM5.41 20L4 18.59l7.72-7.72 1.47 1.35L5.41 20z\"/>\n",
              "  </svg>\n",
              "      </button>\n",
              "      \n",
              "  <style>\n",
              "    .colab-df-container {\n",
              "      display:flex;\n",
              "      flex-wrap:wrap;\n",
              "      gap: 12px;\n",
              "    }\n",
              "\n",
              "    .colab-df-convert {\n",
              "      background-color: #E8F0FE;\n",
              "      border: none;\n",
              "      border-radius: 50%;\n",
              "      cursor: pointer;\n",
              "      display: none;\n",
              "      fill: #1967D2;\n",
              "      height: 32px;\n",
              "      padding: 0 0 0 0;\n",
              "      width: 32px;\n",
              "    }\n",
              "\n",
              "    .colab-df-convert:hover {\n",
              "      background-color: #E2EBFA;\n",
              "      box-shadow: 0px 1px 2px rgba(60, 64, 67, 0.3), 0px 1px 3px 1px rgba(60, 64, 67, 0.15);\n",
              "      fill: #174EA6;\n",
              "    }\n",
              "\n",
              "    [theme=dark] .colab-df-convert {\n",
              "      background-color: #3B4455;\n",
              "      fill: #D2E3FC;\n",
              "    }\n",
              "\n",
              "    [theme=dark] .colab-df-convert:hover {\n",
              "      background-color: #434B5C;\n",
              "      box-shadow: 0px 1px 3px 1px rgba(0, 0, 0, 0.15);\n",
              "      filter: drop-shadow(0px 1px 2px rgba(0, 0, 0, 0.3));\n",
              "      fill: #FFFFFF;\n",
              "    }\n",
              "  </style>\n",
              "\n",
              "      <script>\n",
              "        const buttonEl =\n",
              "          document.querySelector('#df-574f9a66-7ae1-4a06-8fdc-668549eb82ee button.colab-df-convert');\n",
              "        buttonEl.style.display =\n",
              "          google.colab.kernel.accessAllowed ? 'block' : 'none';\n",
              "\n",
              "        async function convertToInteractive(key) {\n",
              "          const element = document.querySelector('#df-574f9a66-7ae1-4a06-8fdc-668549eb82ee');\n",
              "          const dataTable =\n",
              "            await google.colab.kernel.invokeFunction('convertToInteractive',\n",
              "                                                     [key], {});\n",
              "          if (!dataTable) return;\n",
              "\n",
              "          const docLinkHtml = 'Like what you see? Visit the ' +\n",
              "            '<a target=\"_blank\" href=https://colab.research.google.com/notebooks/data_table.ipynb>data table notebook</a>'\n",
              "            + ' to learn more about interactive tables.';\n",
              "          element.innerHTML = '';\n",
              "          dataTable['output_type'] = 'display_data';\n",
              "          await google.colab.output.renderOutput(dataTable, element);\n",
              "          const docLink = document.createElement('div');\n",
              "          docLink.innerHTML = docLinkHtml;\n",
              "          element.appendChild(docLink);\n",
              "        }\n",
              "      </script>\n",
              "    </div>\n",
              "  </div>\n",
              "  "
            ]
          },
          "metadata": {},
          "execution_count": 6
        }
      ]
    },
    {
      "cell_type": "code",
      "source": [
        "cols = df.columns.tolist()\n",
        "cols"
      ],
      "metadata": {
        "colab": {
          "base_uri": "https://localhost:8080/"
        },
        "id": "xe9LJ78YItQt",
        "outputId": "c94bbbae-a43a-4f00-dfba-1b80a5f813d8"
      },
      "execution_count": 7,
      "outputs": [
        {
          "output_type": "execute_result",
          "data": {
            "text/plain": [
              "['D_R',\n",
              " 'tahun',\n",
              " 'urutan',\n",
              " 'smt',\n",
              " 'final_weig',\n",
              " 'kode_prov',\n",
              " 'nama_prov',\n",
              " 'kode_kab',\n",
              " 'nama_kab',\n",
              " 'no_dsrt',\n",
              " 'klasifikas',\n",
              " 'jlh_art',\n",
              " 'jlh_art5',\n",
              " 'k1',\n",
              " 'k3',\n",
              " 'k4',\n",
              " 'k5_bl',\n",
              " 'k5_th',\n",
              " 'k6',\n",
              " 'r4',\n",
              " 'r5',\n",
              " 'r6a',\n",
              " 'r6b',\n",
              " 'r6c',\n",
              " 'r6d',\n",
              " 'r6e',\n",
              " 'r7',\n",
              " 'r7_prov',\n",
              " 'r7_kab',\n",
              " 'r8a',\n",
              " 'r8b',\n",
              " 'r8c',\n",
              " 'r8d',\n",
              " 'r8e',\n",
              " 'r8f',\n",
              " 'r9a',\n",
              " 'r9b',\n",
              " 'r9c',\n",
              " 'r10a',\n",
              " 'r10b',\n",
              " 'r10c',\n",
              " 'r10d',\n",
              " 'r12a',\n",
              " 'r12b',\n",
              " 'r13a_kateg',\n",
              " 'r13b_kji19',\n",
              " 'r13b_kbji2',\n",
              " 'r14a1',\n",
              " 'r14a2',\n",
              " 'r14b',\n",
              " 'r15a1',\n",
              " 'r15a2',\n",
              " 'r15b',\n",
              " 'r16a1',\n",
              " 'r16a2',\n",
              " 'r16a3',\n",
              " 'r16a4',\n",
              " 'r16a5',\n",
              " 'r16a6',\n",
              " 'r16a7',\n",
              " 'r16a',\n",
              " 'r16b',\n",
              " 'r16c',\n",
              " 'r16d',\n",
              " 'r17a',\n",
              " 'r17b1',\n",
              " 'r17b2',\n",
              " 'r17b3',\n",
              " 'r18a',\n",
              " 'r18b',\n",
              " 'r18c',\n",
              " 'r18d1',\n",
              " 'r18d2',\n",
              " 'r18d3',\n",
              " 'r18d4',\n",
              " 'r18d5',\n",
              " 'r18d6',\n",
              " 'r18d7',\n",
              " 'r19a',\n",
              " 'r19b',\n",
              " 'r19b_prov',\n",
              " 'r19b_kab',\n",
              " 'r19c',\n",
              " 'r19d',\n",
              " 'r20a',\n",
              " 'r20b1',\n",
              " 'r20b2',\n",
              " 'r20b3',\n",
              " 'r20b4',\n",
              " 'r20b5',\n",
              " 'r20b6',\n",
              " 'r20b7',\n",
              " 'r20b',\n",
              " 'r21a',\n",
              " 'r21b',\n",
              " 'r21c',\n",
              " 'r22a',\n",
              " 'r22b',\n",
              " 'r23a',\n",
              " 'r23b',\n",
              " 'r24a',\n",
              " 'r24b',\n",
              " 'r24c',\n",
              " 'r24d',\n",
              " 'r24e',\n",
              " 'r24f',\n",
              " 'r25a',\n",
              " 'r25b',\n",
              " 'r26',\n",
              " 'r27a',\n",
              " 'r27b',\n",
              " 'r27c',\n",
              " 'r27d',\n",
              " 'r27e',\n",
              " 'r27f',\n",
              " 'r27g',\n",
              " 'r27h1',\n",
              " 'r27h2',\n",
              " 'r27h3',\n",
              " 'r27h4',\n",
              " 'r27h5',\n",
              " 'r27i',\n",
              " 'r28',\n",
              " 'r29a',\n",
              " 'r29b_bl',\n",
              " 'r29b_th',\n",
              " 'r30a',\n",
              " 'r30b',\n",
              " 'r31a',\n",
              " 'r31b',\n",
              " 'r31c',\n",
              " 'r31d',\n",
              " 'JenisKegiatan',\n",
              " 'AK3',\n",
              " 'umurpub',\n",
              " 'didikpub']"
            ]
          },
          "metadata": {},
          "execution_count": 7
        }
      ]
    },
    {
      "cell_type": "code",
      "source": [
        "a = df[df['r25a'] == 3]\n",
        "a"
      ],
      "metadata": {
        "colab": {
          "base_uri": "https://localhost:8080/",
          "height": 661
        },
        "id": "DPJPwEObJJ1R",
        "outputId": "60aa5643-802f-4bb2-8dfb-988ce9735f0b"
      },
      "execution_count": 8,
      "outputs": [
        {
          "output_type": "execute_result",
          "data": {
            "text/plain": [
              "      D_R    tahun     urutan smt  final_weig  kode_prov     nama_prov  \\\n",
              "112        20208.0  1010229.0   2       107.0       82.0  MALUKU UTARA   \n",
              "215        20208.0  1010652.0   2        57.0       82.0  MALUKU UTARA   \n",
              "216        20208.0  1010657.0   2       108.0       82.0  MALUKU UTARA   \n",
              "521        20208.0  1011772.0   2        23.0       82.0  MALUKU UTARA   \n",
              "842        20208.0  1013010.0   2        66.0       82.0  MALUKU UTARA   \n",
              "...    ..      ...        ...  ..         ...        ...           ...   \n",
              "11182      20208.0  1021877.0   2        48.0       82.0  MALUKU UTARA   \n",
              "11200      20208.0  1022137.0   2        45.0       82.0  MALUKU UTARA   \n",
              "11243      20208.0  1022682.0   2        42.0       82.0  MALUKU UTARA   \n",
              "11366      20208.0  1024075.0   2        97.0       82.0  MALUKU UTARA   \n",
              "11425      20208.0  1024664.0   2        51.0       82.0  MALUKU UTARA   \n",
              "\n",
              "       kode_kab          nama_kab  no_dsrt  ...  r30a  r30b  r31a  r31b  r31c  \\\n",
              "112         1.0   HALMAHERA BARAT      4.0  ...   0.0   0.0   2.0   2.0   1.0   \n",
              "215         1.0   HALMAHERA BARAT      1.0  ...   0.0   0.0   2.0   2.0   1.0   \n",
              "216         1.0   HALMAHERA BARAT      2.0  ...   0.0   0.0   2.0   2.0   1.0   \n",
              "521         2.0  HALMAHERA TENGAH      7.0  ...   0.0   0.0   2.0   2.0   2.0   \n",
              "842         3.0    KEPULAUAN SULA      7.0  ...   0.0   0.0   2.0   2.0   1.0   \n",
              "...         ...               ...      ...  ...   ...   ...   ...   ...   ...   \n",
              "11182       7.0     PULAU MOROTAI     11.0  ...   0.0   0.0   2.0   1.0   1.0   \n",
              "11200       8.0     PULAU TALIABU      9.0  ...   0.0   0.0   2.0   1.0   1.0   \n",
              "11243       8.0     PULAU TALIABU      4.0  ...   0.0   0.0   2.0   1.0   2.0   \n",
              "11366      71.0           TERNATE      4.0  ...   0.0   0.0   2.0   1.0   1.0   \n",
              "11425      71.0           TERNATE      8.0  ...   0.0   0.0   2.0   2.0   1.0   \n",
              "\n",
              "       r31d  JenisKegiatan  AK3  umurpub  didikpub  \n",
              "112     3.0            2.0  2.0      5.0       5.0  \n",
              "215     3.0            2.0  2.0      3.0       5.0  \n",
              "216     3.0            2.0  2.0      4.0       3.0  \n",
              "521     4.0            2.0  2.0      8.0       2.0  \n",
              "842     3.0            2.0  2.0      4.0       6.0  \n",
              "...     ...            ...  ...      ...       ...  \n",
              "11182   3.0            1.0  1.0      8.0       4.0  \n",
              "11200   2.0            1.0  1.0      6.0       3.0  \n",
              "11243   2.0            1.0  1.0     12.0       2.0  \n",
              "11366   2.0            1.0  1.0      3.0       5.0  \n",
              "11425   3.0            1.0  1.0     12.0       3.0  \n",
              "\n",
              "[87 rows x 136 columns]"
            ],
            "text/html": [
              "\n",
              "  <div id=\"df-d0c6a04c-8f55-49e0-8e34-a4163c751cce\">\n",
              "    <div class=\"colab-df-container\">\n",
              "      <div>\n",
              "<style scoped>\n",
              "    .dataframe tbody tr th:only-of-type {\n",
              "        vertical-align: middle;\n",
              "    }\n",
              "\n",
              "    .dataframe tbody tr th {\n",
              "        vertical-align: top;\n",
              "    }\n",
              "\n",
              "    .dataframe thead th {\n",
              "        text-align: right;\n",
              "    }\n",
              "</style>\n",
              "<table border=\"1\" class=\"dataframe\">\n",
              "  <thead>\n",
              "    <tr style=\"text-align: right;\">\n",
              "      <th></th>\n",
              "      <th>D_R</th>\n",
              "      <th>tahun</th>\n",
              "      <th>urutan</th>\n",
              "      <th>smt</th>\n",
              "      <th>final_weig</th>\n",
              "      <th>kode_prov</th>\n",
              "      <th>nama_prov</th>\n",
              "      <th>kode_kab</th>\n",
              "      <th>nama_kab</th>\n",
              "      <th>no_dsrt</th>\n",
              "      <th>...</th>\n",
              "      <th>r30a</th>\n",
              "      <th>r30b</th>\n",
              "      <th>r31a</th>\n",
              "      <th>r31b</th>\n",
              "      <th>r31c</th>\n",
              "      <th>r31d</th>\n",
              "      <th>JenisKegiatan</th>\n",
              "      <th>AK3</th>\n",
              "      <th>umurpub</th>\n",
              "      <th>didikpub</th>\n",
              "    </tr>\n",
              "  </thead>\n",
              "  <tbody>\n",
              "    <tr>\n",
              "      <th>112</th>\n",
              "      <td></td>\n",
              "      <td>20208.0</td>\n",
              "      <td>1010229.0</td>\n",
              "      <td>2</td>\n",
              "      <td>107.0</td>\n",
              "      <td>82.0</td>\n",
              "      <td>MALUKU UTARA</td>\n",
              "      <td>1.0</td>\n",
              "      <td>HALMAHERA BARAT</td>\n",
              "      <td>4.0</td>\n",
              "      <td>...</td>\n",
              "      <td>0.0</td>\n",
              "      <td>0.0</td>\n",
              "      <td>2.0</td>\n",
              "      <td>2.0</td>\n",
              "      <td>1.0</td>\n",
              "      <td>3.0</td>\n",
              "      <td>2.0</td>\n",
              "      <td>2.0</td>\n",
              "      <td>5.0</td>\n",
              "      <td>5.0</td>\n",
              "    </tr>\n",
              "    <tr>\n",
              "      <th>215</th>\n",
              "      <td></td>\n",
              "      <td>20208.0</td>\n",
              "      <td>1010652.0</td>\n",
              "      <td>2</td>\n",
              "      <td>57.0</td>\n",
              "      <td>82.0</td>\n",
              "      <td>MALUKU UTARA</td>\n",
              "      <td>1.0</td>\n",
              "      <td>HALMAHERA BARAT</td>\n",
              "      <td>1.0</td>\n",
              "      <td>...</td>\n",
              "      <td>0.0</td>\n",
              "      <td>0.0</td>\n",
              "      <td>2.0</td>\n",
              "      <td>2.0</td>\n",
              "      <td>1.0</td>\n",
              "      <td>3.0</td>\n",
              "      <td>2.0</td>\n",
              "      <td>2.0</td>\n",
              "      <td>3.0</td>\n",
              "      <td>5.0</td>\n",
              "    </tr>\n",
              "    <tr>\n",
              "      <th>216</th>\n",
              "      <td></td>\n",
              "      <td>20208.0</td>\n",
              "      <td>1010657.0</td>\n",
              "      <td>2</td>\n",
              "      <td>108.0</td>\n",
              "      <td>82.0</td>\n",
              "      <td>MALUKU UTARA</td>\n",
              "      <td>1.0</td>\n",
              "      <td>HALMAHERA BARAT</td>\n",
              "      <td>2.0</td>\n",
              "      <td>...</td>\n",
              "      <td>0.0</td>\n",
              "      <td>0.0</td>\n",
              "      <td>2.0</td>\n",
              "      <td>2.0</td>\n",
              "      <td>1.0</td>\n",
              "      <td>3.0</td>\n",
              "      <td>2.0</td>\n",
              "      <td>2.0</td>\n",
              "      <td>4.0</td>\n",
              "      <td>3.0</td>\n",
              "    </tr>\n",
              "    <tr>\n",
              "      <th>521</th>\n",
              "      <td></td>\n",
              "      <td>20208.0</td>\n",
              "      <td>1011772.0</td>\n",
              "      <td>2</td>\n",
              "      <td>23.0</td>\n",
              "      <td>82.0</td>\n",
              "      <td>MALUKU UTARA</td>\n",
              "      <td>2.0</td>\n",
              "      <td>HALMAHERA TENGAH</td>\n",
              "      <td>7.0</td>\n",
              "      <td>...</td>\n",
              "      <td>0.0</td>\n",
              "      <td>0.0</td>\n",
              "      <td>2.0</td>\n",
              "      <td>2.0</td>\n",
              "      <td>2.0</td>\n",
              "      <td>4.0</td>\n",
              "      <td>2.0</td>\n",
              "      <td>2.0</td>\n",
              "      <td>8.0</td>\n",
              "      <td>2.0</td>\n",
              "    </tr>\n",
              "    <tr>\n",
              "      <th>842</th>\n",
              "      <td></td>\n",
              "      <td>20208.0</td>\n",
              "      <td>1013010.0</td>\n",
              "      <td>2</td>\n",
              "      <td>66.0</td>\n",
              "      <td>82.0</td>\n",
              "      <td>MALUKU UTARA</td>\n",
              "      <td>3.0</td>\n",
              "      <td>KEPULAUAN SULA</td>\n",
              "      <td>7.0</td>\n",
              "      <td>...</td>\n",
              "      <td>0.0</td>\n",
              "      <td>0.0</td>\n",
              "      <td>2.0</td>\n",
              "      <td>2.0</td>\n",
              "      <td>1.0</td>\n",
              "      <td>3.0</td>\n",
              "      <td>2.0</td>\n",
              "      <td>2.0</td>\n",
              "      <td>4.0</td>\n",
              "      <td>6.0</td>\n",
              "    </tr>\n",
              "    <tr>\n",
              "      <th>...</th>\n",
              "      <td>...</td>\n",
              "      <td>...</td>\n",
              "      <td>...</td>\n",
              "      <td>...</td>\n",
              "      <td>...</td>\n",
              "      <td>...</td>\n",
              "      <td>...</td>\n",
              "      <td>...</td>\n",
              "      <td>...</td>\n",
              "      <td>...</td>\n",
              "      <td>...</td>\n",
              "      <td>...</td>\n",
              "      <td>...</td>\n",
              "      <td>...</td>\n",
              "      <td>...</td>\n",
              "      <td>...</td>\n",
              "      <td>...</td>\n",
              "      <td>...</td>\n",
              "      <td>...</td>\n",
              "      <td>...</td>\n",
              "      <td>...</td>\n",
              "    </tr>\n",
              "    <tr>\n",
              "      <th>11182</th>\n",
              "      <td></td>\n",
              "      <td>20208.0</td>\n",
              "      <td>1021877.0</td>\n",
              "      <td>2</td>\n",
              "      <td>48.0</td>\n",
              "      <td>82.0</td>\n",
              "      <td>MALUKU UTARA</td>\n",
              "      <td>7.0</td>\n",
              "      <td>PULAU MOROTAI</td>\n",
              "      <td>11.0</td>\n",
              "      <td>...</td>\n",
              "      <td>0.0</td>\n",
              "      <td>0.0</td>\n",
              "      <td>2.0</td>\n",
              "      <td>1.0</td>\n",
              "      <td>1.0</td>\n",
              "      <td>3.0</td>\n",
              "      <td>1.0</td>\n",
              "      <td>1.0</td>\n",
              "      <td>8.0</td>\n",
              "      <td>4.0</td>\n",
              "    </tr>\n",
              "    <tr>\n",
              "      <th>11200</th>\n",
              "      <td></td>\n",
              "      <td>20208.0</td>\n",
              "      <td>1022137.0</td>\n",
              "      <td>2</td>\n",
              "      <td>45.0</td>\n",
              "      <td>82.0</td>\n",
              "      <td>MALUKU UTARA</td>\n",
              "      <td>8.0</td>\n",
              "      <td>PULAU TALIABU</td>\n",
              "      <td>9.0</td>\n",
              "      <td>...</td>\n",
              "      <td>0.0</td>\n",
              "      <td>0.0</td>\n",
              "      <td>2.0</td>\n",
              "      <td>1.0</td>\n",
              "      <td>1.0</td>\n",
              "      <td>2.0</td>\n",
              "      <td>1.0</td>\n",
              "      <td>1.0</td>\n",
              "      <td>6.0</td>\n",
              "      <td>3.0</td>\n",
              "    </tr>\n",
              "    <tr>\n",
              "      <th>11243</th>\n",
              "      <td></td>\n",
              "      <td>20208.0</td>\n",
              "      <td>1022682.0</td>\n",
              "      <td>2</td>\n",
              "      <td>42.0</td>\n",
              "      <td>82.0</td>\n",
              "      <td>MALUKU UTARA</td>\n",
              "      <td>8.0</td>\n",
              "      <td>PULAU TALIABU</td>\n",
              "      <td>4.0</td>\n",
              "      <td>...</td>\n",
              "      <td>0.0</td>\n",
              "      <td>0.0</td>\n",
              "      <td>2.0</td>\n",
              "      <td>1.0</td>\n",
              "      <td>2.0</td>\n",
              "      <td>2.0</td>\n",
              "      <td>1.0</td>\n",
              "      <td>1.0</td>\n",
              "      <td>12.0</td>\n",
              "      <td>2.0</td>\n",
              "    </tr>\n",
              "    <tr>\n",
              "      <th>11366</th>\n",
              "      <td></td>\n",
              "      <td>20208.0</td>\n",
              "      <td>1024075.0</td>\n",
              "      <td>2</td>\n",
              "      <td>97.0</td>\n",
              "      <td>82.0</td>\n",
              "      <td>MALUKU UTARA</td>\n",
              "      <td>71.0</td>\n",
              "      <td>TERNATE</td>\n",
              "      <td>4.0</td>\n",
              "      <td>...</td>\n",
              "      <td>0.0</td>\n",
              "      <td>0.0</td>\n",
              "      <td>2.0</td>\n",
              "      <td>1.0</td>\n",
              "      <td>1.0</td>\n",
              "      <td>2.0</td>\n",
              "      <td>1.0</td>\n",
              "      <td>1.0</td>\n",
              "      <td>3.0</td>\n",
              "      <td>5.0</td>\n",
              "    </tr>\n",
              "    <tr>\n",
              "      <th>11425</th>\n",
              "      <td></td>\n",
              "      <td>20208.0</td>\n",
              "      <td>1024664.0</td>\n",
              "      <td>2</td>\n",
              "      <td>51.0</td>\n",
              "      <td>82.0</td>\n",
              "      <td>MALUKU UTARA</td>\n",
              "      <td>71.0</td>\n",
              "      <td>TERNATE</td>\n",
              "      <td>8.0</td>\n",
              "      <td>...</td>\n",
              "      <td>0.0</td>\n",
              "      <td>0.0</td>\n",
              "      <td>2.0</td>\n",
              "      <td>2.0</td>\n",
              "      <td>1.0</td>\n",
              "      <td>3.0</td>\n",
              "      <td>1.0</td>\n",
              "      <td>1.0</td>\n",
              "      <td>12.0</td>\n",
              "      <td>3.0</td>\n",
              "    </tr>\n",
              "  </tbody>\n",
              "</table>\n",
              "<p>87 rows × 136 columns</p>\n",
              "</div>\n",
              "      <button class=\"colab-df-convert\" onclick=\"convertToInteractive('df-d0c6a04c-8f55-49e0-8e34-a4163c751cce')\"\n",
              "              title=\"Convert this dataframe to an interactive table.\"\n",
              "              style=\"display:none;\">\n",
              "        \n",
              "  <svg xmlns=\"http://www.w3.org/2000/svg\" height=\"24px\"viewBox=\"0 0 24 24\"\n",
              "       width=\"24px\">\n",
              "    <path d=\"M0 0h24v24H0V0z\" fill=\"none\"/>\n",
              "    <path d=\"M18.56 5.44l.94 2.06.94-2.06 2.06-.94-2.06-.94-.94-2.06-.94 2.06-2.06.94zm-11 1L8.5 8.5l.94-2.06 2.06-.94-2.06-.94L8.5 2.5l-.94 2.06-2.06.94zm10 10l.94 2.06.94-2.06 2.06-.94-2.06-.94-.94-2.06-.94 2.06-2.06.94z\"/><path d=\"M17.41 7.96l-1.37-1.37c-.4-.4-.92-.59-1.43-.59-.52 0-1.04.2-1.43.59L10.3 9.45l-7.72 7.72c-.78.78-.78 2.05 0 2.83L4 21.41c.39.39.9.59 1.41.59.51 0 1.02-.2 1.41-.59l7.78-7.78 2.81-2.81c.8-.78.8-2.07 0-2.86zM5.41 20L4 18.59l7.72-7.72 1.47 1.35L5.41 20z\"/>\n",
              "  </svg>\n",
              "      </button>\n",
              "      \n",
              "  <style>\n",
              "    .colab-df-container {\n",
              "      display:flex;\n",
              "      flex-wrap:wrap;\n",
              "      gap: 12px;\n",
              "    }\n",
              "\n",
              "    .colab-df-convert {\n",
              "      background-color: #E8F0FE;\n",
              "      border: none;\n",
              "      border-radius: 50%;\n",
              "      cursor: pointer;\n",
              "      display: none;\n",
              "      fill: #1967D2;\n",
              "      height: 32px;\n",
              "      padding: 0 0 0 0;\n",
              "      width: 32px;\n",
              "    }\n",
              "\n",
              "    .colab-df-convert:hover {\n",
              "      background-color: #E2EBFA;\n",
              "      box-shadow: 0px 1px 2px rgba(60, 64, 67, 0.3), 0px 1px 3px 1px rgba(60, 64, 67, 0.15);\n",
              "      fill: #174EA6;\n",
              "    }\n",
              "\n",
              "    [theme=dark] .colab-df-convert {\n",
              "      background-color: #3B4455;\n",
              "      fill: #D2E3FC;\n",
              "    }\n",
              "\n",
              "    [theme=dark] .colab-df-convert:hover {\n",
              "      background-color: #434B5C;\n",
              "      box-shadow: 0px 1px 3px 1px rgba(0, 0, 0, 0.15);\n",
              "      filter: drop-shadow(0px 1px 2px rgba(0, 0, 0, 0.3));\n",
              "      fill: #FFFFFF;\n",
              "    }\n",
              "  </style>\n",
              "\n",
              "      <script>\n",
              "        const buttonEl =\n",
              "          document.querySelector('#df-d0c6a04c-8f55-49e0-8e34-a4163c751cce button.colab-df-convert');\n",
              "        buttonEl.style.display =\n",
              "          google.colab.kernel.accessAllowed ? 'block' : 'none';\n",
              "\n",
              "        async function convertToInteractive(key) {\n",
              "          const element = document.querySelector('#df-d0c6a04c-8f55-49e0-8e34-a4163c751cce');\n",
              "          const dataTable =\n",
              "            await google.colab.kernel.invokeFunction('convertToInteractive',\n",
              "                                                     [key], {});\n",
              "          if (!dataTable) return;\n",
              "\n",
              "          const docLinkHtml = 'Like what you see? Visit the ' +\n",
              "            '<a target=\"_blank\" href=https://colab.research.google.com/notebooks/data_table.ipynb>data table notebook</a>'\n",
              "            + ' to learn more about interactive tables.';\n",
              "          element.innerHTML = '';\n",
              "          dataTable['output_type'] = 'display_data';\n",
              "          await google.colab.output.renderOutput(dataTable, element);\n",
              "          const docLink = document.createElement('div');\n",
              "          docLink.innerHTML = docLinkHtml;\n",
              "          element.appendChild(docLink);\n",
              "        }\n",
              "      </script>\n",
              "    </div>\n",
              "  </div>\n",
              "  "
            ]
          },
          "metadata": {},
          "execution_count": 8
        }
      ]
    },
    {
      "cell_type": "markdown",
      "source": [
        "##**Pemilihan Variabel**\n",
        "\n",
        "\n",
        "Karena banyaknya cakupan, variabel yang akan digunakan untuk analisis lebih lanjut dibatasi pada:\n",
        "- `k4` = Jenis kelamin\n",
        "- `r4` = status perkawinan\n",
        "- `r6c` = lulus saat covid (agustus 2019-agustus 2020)\n",
        "- `r22a` = status mencari kerja dalam seminggu terakhir (1/2)\n",
        "- `r22b` = status mempersiapkan usaha dalam seminggu terakhir (1/2)\n",
        "- `r25a` = alasan utama tidak mencari pekerjaan (1-10)\n",
        "- `kode_kab` = kode kabupaten/kota\n",
        "- `umurpub` = kode kelompok umur (1-12)\n",
        "- `didikpub` = kode tingkat pendidikan terakhir yang ditamatkan (1-8)\n",
        "\n",
        "variabel kontrol:\n",
        "- `AK3` = status bekerja (bekerja, tidak bekerja, bukan angkatan kerja"
      ],
      "metadata": {
        "id": "o2lW38U2JY1f"
      }
    },
    {
      "cell_type": "markdown",
      "source": [
        "## **Membuat dataframe untuk analisis lanjutan**"
      ],
      "metadata": {
        "id": "aAMyivKJbi0m"
      }
    },
    {
      "cell_type": "code",
      "source": [
        "dataskr = df[['kode_kab', 'k4', 'r4', 'r6c','r22a', 'r22b', 'r25a',  'AK3','umurpub','didikpub']]\n",
        "dataskr.info()"
      ],
      "metadata": {
        "colab": {
          "base_uri": "https://localhost:8080/"
        },
        "id": "SJGRVDnozBK6",
        "outputId": "fc86d903-892b-4c07-9077-6b759e779c7e"
      },
      "execution_count": 87,
      "outputs": [
        {
          "output_type": "stream",
          "name": "stdout",
          "text": [
            "<class 'pandas.core.frame.DataFrame'>\n",
            "RangeIndex: 11826 entries, 0 to 11825\n",
            "Data columns (total 10 columns):\n",
            " #   Column    Non-Null Count  Dtype  \n",
            "---  ------    --------------  -----  \n",
            " 0   kode_kab  11826 non-null  float64\n",
            " 1   k4        11826 non-null  float64\n",
            " 2   r4        11826 non-null  float64\n",
            " 3   r6c       11826 non-null  float64\n",
            " 4   r22a      11826 non-null  float64\n",
            " 5   r22b      11826 non-null  float64\n",
            " 6   r25a      11826 non-null  float64\n",
            " 7   AK3       11826 non-null  float64\n",
            " 8   umurpub   11826 non-null  float64\n",
            " 9   didikpub  11826 non-null  float64\n",
            "dtypes: float64(10)\n",
            "memory usage: 924.0 KB\n"
          ]
        }
      ]
    },
    {
      "cell_type": "markdown",
      "source": [
        "**Obervation** : All data already in numeric data type"
      ],
      "metadata": {
        "id": "Df6wdmHH1HFZ"
      }
    },
    {
      "cell_type": "markdown",
      "source": [
        "## **Summary of Labor Dataset**"
      ],
      "metadata": {
        "id": "UNN8eyspOHi-"
      }
    },
    {
      "cell_type": "markdown",
      "source": [
        "rename the column first, so it is easier to be interpreted:"
      ],
      "metadata": {
        "id": "f6RyrPkHOTz1"
      }
    },
    {
      "cell_type": "code",
      "source": [
        "dataskr.rename(columns = {\"k4\": \"Gender\", \"r4\": \"Marital_Stat\", \"r6c\": \"Covid_Grad\", \"r22a\": \"Looking_for_Job\", \"r22b\": \"Prepare_Business\", \"r25a\": \"NotLookingForJob_Reason\", \"AK3\": \"Labor_Stat\", \"umurpub\": \"AgeGroup\", \"didikpub\": \"Education\"}, inplace=True)"
      ],
      "metadata": {
        "id": "WQL-XMt14FK4"
      },
      "execution_count": 90,
      "outputs": []
    },
    {
      "cell_type": "markdown",
      "source": [
        "checking the multicollinearity:"
      ],
      "metadata": {
        "id": "Zqr5ng2sOcIG"
      }
    },
    {
      "cell_type": "code",
      "source": [
        "correlation = dataskr.corr()\n",
        "sns.heatmap(correlation, annot=True, fmt='.2f')"
      ],
      "metadata": {
        "colab": {
          "base_uri": "https://localhost:8080/",
          "height": 404
        },
        "id": "2g8Aesj5niQ3",
        "outputId": "903bbf44-1680-4d75-c062-2b387c877c65"
      },
      "execution_count": 91,
      "outputs": [
        {
          "output_type": "execute_result",
          "data": {
            "text/plain": [
              "<matplotlib.axes._subplots.AxesSubplot at 0x7fe220dbd7d0>"
            ]
          },
          "metadata": {},
          "execution_count": 91
        },
        {
          "output_type": "display_data",
          "data": {
            "text/plain": [
              "<Figure size 432x288 with 2 Axes>"
            ],
            "image/png": "[encoded data removed]"
          },
          "metadata": {
            "needs_background": "light"
          }
        }
      ]
    },
    {
      "cell_type": "markdown",
      "source": [
        "**Observation :**\n",
        "- Fortunately, no multicollinearity in choosen variables (using 0.8 rule of thumb as the threshold)\n",
        "- The results may different if we choose more variables (some of variables are redundant such as region code and region name)\n",
        "- Correlation that can be noticed are:\n",
        "> - Correlation between Marital Status and Age of Group (0.63)\n",
        "> - Correlation between Not Looking for Job Reason with the status of Looking for Job in unemployment (0.54)\n",
        "> -  Correlation between people who graduated in Pandemic period in August 2019 - August 2020 with Education (0.43)\n",
        "> - Correlation between Not Looking for Job Reason with the status Labor (employ, unemployment, not-a-labor-force)(0.40)\n",
        "> - Correlation between Gender and the status of Labor (employ, unemployment, not-a-labor-force) (0.34)\n"
      ],
      "metadata": {
        "id": "Q7Vtt-ll1ZvQ"
      }
    },
    {
      "cell_type": "markdown",
      "source": [
        "## Create Labor Segmentation\n",
        "\n",
        "- unemployment : `pengangguran`\n",
        "- Labor that looking for a job: `pencarikerja`\n",
        "- Labor that preparing a business: `siapusaha`\n",
        "- Labor force (working and unemployment) : `angkatankerja`\n",
        "- Working age population not in the labor force who are in schools, doing housekeeping, others, exclude personal activity. : `bukanAK`\n",
        "\n"
      ],
      "metadata": {
        "id": "scuaxHpZBcRb"
      }
    },
    {
      "cell_type": "code",
      "source": [
        "angkatankerja = dataskr[dataskr['Labor_Stat'] < 3]\n",
        "pekerja = dataskr[dataskr['Labor_Stat'] == 1]\n",
        "pengangguran = dataskr[dataskr['Labor_Stat'] == 2]\n",
        "pencarikerja = dataskr[dataskr['Looking_for_Job'] == 1]\n",
        "siapusaha = dataskr[dataskr['Prepare_Business'] == 1]\n",
        "bukanAK = dataskr[dataskr['Labor_Stat'] == 3]"
      ],
      "metadata": {
        "id": "rVwCARey7XbO"
      },
      "execution_count": 92,
      "outputs": []
    },
    {
      "cell_type": "code",
      "source": [
        "bukanAK.index"
      ],
      "metadata": {
        "id": "6A9izpcCoi4t",
        "outputId": "9d35e683-ebc9-4c88-9cc2-c520cc4f4b68",
        "colab": {
          "base_uri": "https://localhost:8080/"
        }
      },
      "execution_count": 275,
      "outputs": [
        {
          "output_type": "execute_result",
          "data": {
            "text/plain": [
              "Int64Index([   0,    1,    2,    3,    4,    5,    6,    7,    8,    9,\n",
              "            ...\n",
              "            4641, 4642, 4643, 4644, 4645, 4646, 4647, 4648, 4649, 4650],\n",
              "           dtype='int64', length=4269)"
            ]
          },
          "metadata": {},
          "execution_count": 275
        }
      ]
    },
    {
      "cell_type": "code",
      "source": [
        "import matplotlib.pyplot as plt\n",
        "import numpy as np\n",
        "\n",
        "x = np.array([len(pekerja.index), len(pengangguran.index), len(bukanAK.index)])\n",
        "mylabels = [\"Working\", \"Unemployment\", \"Non-Labor Force\"]\n",
        "colors= ['royalblue','crimson','mediumseagreen']\n",
        "\n",
        "plt.figure(figsize = (12, 6))\n",
        "plt.pie(x, labels=mylabels,\n",
        "        colors=colors,\n",
        "        autopct='%1.1f%%' )\n",
        "#plt.legend(mylabels)\n",
        "plt.title('National Labor Force Survey Result in Northen Maluku (2020-II)', fontsize=20)\n",
        "plt.axis('equal')\n",
        "plt.show() "
      ],
      "metadata": {
        "id": "9pSV2grCoMp8",
        "outputId": "418bc9eb-0067-491c-ae23-f47aa84b420e",
        "colab": {
          "base_uri": "https://localhost:8080/",
          "height": 378
        }
      },
      "execution_count": 300,
      "outputs": [
        {
          "output_type": "display_data",
          "data": {
            "text/plain": [
              "<Figure size 864x432 with 1 Axes>"
            ],
            "image/png": "[encoded data removed]"
          },
          "metadata": {}
        }
      ]
    },
    {
      "cell_type": "code",
      "source": [
        "angkatankerja.head()"
      ],
      "metadata": {
        "colab": {
          "base_uri": "https://localhost:8080/",
          "height": 270
        },
        "id": "bEv0YSrFtLMO",
        "outputId": "335f0409-cbe6-4a87-d324-fe803d1284db"
      },
      "execution_count": 93,
      "outputs": [
        {
          "output_type": "execute_result",
          "data": {
            "text/plain": [
              "    kode_kab  Gender  Marital_Stat  Covid_Grad  Looking_for_Job  \\\n",
              "11       1.0     2.0           4.0         2.0              1.0   \n",
              "46       1.0     1.0           2.0         0.0              1.0   \n",
              "58       1.0     1.0           2.0         2.0              1.0   \n",
              "77       1.0     1.0           2.0         2.0              1.0   \n",
              "84       1.0     1.0           2.0         2.0              1.0   \n",
              "\n",
              "    Prepare_Business  NotLookingForJob_Reason  Labor_Stat  AgeGroup  Education  \n",
              "11               2.0                      0.0         2.0      11.0        6.0  \n",
              "46               2.0                      0.0         2.0       9.0        2.0  \n",
              "58               2.0                      0.0         2.0      11.0        5.0  \n",
              "77               2.0                      0.0         2.0      10.0        3.0  \n",
              "84               2.0                      0.0         2.0      11.0        3.0  "
            ],
            "text/html": [
              "\n",
              "  <div id=\"df-c5290cb2-d639-439d-8646-3be4dfc7c8a2\">\n",
              "    <div class=\"colab-df-container\">\n",
              "      <div>\n",
              "<style scoped>\n",
              "    .dataframe tbody tr th:only-of-type {\n",
              "        vertical-align: middle;\n",
              "    }\n",
              "\n",
              "    .dataframe tbody tr th {\n",
              "        vertical-align: top;\n",
              "    }\n",
              "\n",
              "    .dataframe thead th {\n",
              "        text-align: right;\n",
              "    }\n",
              "</style>\n",
              "<table border=\"1\" class=\"dataframe\">\n",
              "  <thead>\n",
              "    <tr style=\"text-align: right;\">\n",
              "      <th></th>\n",
              "      <th>kode_kab</th>\n",
              "      <th>Gender</th>\n",
              "      <th>Marital_Stat</th>\n",
              "      <th>Covid_Grad</th>\n",
              "      <th>Looking_for_Job</th>\n",
              "      <th>Prepare_Business</th>\n",
              "      <th>NotLookingForJob_Reason</th>\n",
              "      <th>Labor_Stat</th>\n",
              "      <th>AgeGroup</th>\n",
              "      <th>Education</th>\n",
              "    </tr>\n",
              "  </thead>\n",
              "  <tbody>\n",
              "    <tr>\n",
              "      <th>11</th>\n",
              "      <td>1.0</td>\n",
              "      <td>2.0</td>\n",
              "      <td>4.0</td>\n",
              "      <td>2.0</td>\n",
              "      <td>1.0</td>\n",
              "      <td>2.0</td>\n",
              "      <td>0.0</td>\n",
              "      <td>2.0</td>\n",
              "      <td>11.0</td>\n",
              "      <td>6.0</td>\n",
              "    </tr>\n",
              "    <tr>\n",
              "      <th>46</th>\n",
              "      <td>1.0</td>\n",
              "      <td>1.0</td>\n",
              "      <td>2.0</td>\n",
              "      <td>0.0</td>\n",
              "      <td>1.0</td>\n",
              "      <td>2.0</td>\n",
              "      <td>0.0</td>\n",
              "      <td>2.0</td>\n",
              "      <td>9.0</td>\n",
              "      <td>2.0</td>\n",
              "    </tr>\n",
              "    <tr>\n",
              "      <th>58</th>\n",
              "      <td>1.0</td>\n",
              "      <td>1.0</td>\n",
              "      <td>2.0</td>\n",
              "      <td>2.0</td>\n",
              "      <td>1.0</td>\n",
              "      <td>2.0</td>\n",
              "      <td>0.0</td>\n",
              "      <td>2.0</td>\n",
              "      <td>11.0</td>\n",
              "      <td>5.0</td>\n",
              "    </tr>\n",
              "    <tr>\n",
              "      <th>77</th>\n",
              "      <td>1.0</td>\n",
              "      <td>1.0</td>\n",
              "      <td>2.0</td>\n",
              "      <td>2.0</td>\n",
              "      <td>1.0</td>\n",
              "      <td>2.0</td>\n",
              "      <td>0.0</td>\n",
              "      <td>2.0</td>\n",
              "      <td>10.0</td>\n",
              "      <td>3.0</td>\n",
              "    </tr>\n",
              "    <tr>\n",
              "      <th>84</th>\n",
              "      <td>1.0</td>\n",
              "      <td>1.0</td>\n",
              "      <td>2.0</td>\n",
              "      <td>2.0</td>\n",
              "      <td>1.0</td>\n",
              "      <td>2.0</td>\n",
              "      <td>0.0</td>\n",
              "      <td>2.0</td>\n",
              "      <td>11.0</td>\n",
              "      <td>3.0</td>\n",
              "    </tr>\n",
              "  </tbody>\n",
              "</table>\n",
              "</div>\n",
              "      <button class=\"colab-df-convert\" onclick=\"convertToInteractive('df-c5290cb2-d639-439d-8646-3be4dfc7c8a2')\"\n",
              "              title=\"Convert this dataframe to an interactive table.\"\n",
              "              style=\"display:none;\">\n",
              "        \n",
              "  <svg xmlns=\"http://www.w3.org/2000/svg\" height=\"24px\"viewBox=\"0 0 24 24\"\n",
              "       width=\"24px\">\n",
              "    <path d=\"M0 0h24v24H0V0z\" fill=\"none\"/>\n",
              "    <path d=\"M18.56 5.44l.94 2.06.94-2.06 2.06-.94-2.06-.94-.94-2.06-.94 2.06-2.06.94zm-11 1L8.5 8.5l.94-2.06 2.06-.94-2.06-.94L8.5 2.5l-.94 2.06-2.06.94zm10 10l.94 2.06.94-2.06 2.06-.94-2.06-.94-.94-2.06-.94 2.06-2.06.94z\"/><path d=\"M17.41 7.96l-1.37-1.37c-.4-.4-.92-.59-1.43-.59-.52 0-1.04.2-1.43.59L10.3 9.45l-7.72 7.72c-.78.78-.78 2.05 0 2.83L4 21.41c.39.39.9.59 1.41.59.51 0 1.02-.2 1.41-.59l7.78-7.78 2.81-2.81c.8-.78.8-2.07 0-2.86zM5.41 20L4 18.59l7.72-7.72 1.47 1.35L5.41 20z\"/>\n",
              "  </svg>\n",
              "      </button>\n",
              "      \n",
              "  <style>\n",
              "    .colab-df-container {\n",
              "      display:flex;\n",
              "      flex-wrap:wrap;\n",
              "      gap: 12px;\n",
              "    }\n",
              "\n",
              "    .colab-df-convert {\n",
              "      background-color: #E8F0FE;\n",
              "      border: none;\n",
              "      border-radius: 50%;\n",
              "      cursor: pointer;\n",
              "      display: none;\n",
              "      fill: #1967D2;\n",
              "      height: 32px;\n",
              "      padding: 0 0 0 0;\n",
              "      width: 32px;\n",
              "    }\n",
              "\n",
              "    .colab-df-convert:hover {\n",
              "      background-color: #E2EBFA;\n",
              "      box-shadow: 0px 1px 2px rgba(60, 64, 67, 0.3), 0px 1px 3px 1px rgba(60, 64, 67, 0.15);\n",
              "      fill: #174EA6;\n",
              "    }\n",
              "\n",
              "    [theme=dark] .colab-df-convert {\n",
              "      background-color: #3B4455;\n",
              "      fill: #D2E3FC;\n",
              "    }\n",
              "\n",
              "    [theme=dark] .colab-df-convert:hover {\n",
              "      background-color: #434B5C;\n",
              "      box-shadow: 0px 1px 3px 1px rgba(0, 0, 0, 0.15);\n",
              "      filter: drop-shadow(0px 1px 2px rgba(0, 0, 0, 0.3));\n",
              "      fill: #FFFFFF;\n",
              "    }\n",
              "  </style>\n",
              "\n",
              "      <script>\n",
              "        const buttonEl =\n",
              "          document.querySelector('#df-c5290cb2-d639-439d-8646-3be4dfc7c8a2 button.colab-df-convert');\n",
              "        buttonEl.style.display =\n",
              "          google.colab.kernel.accessAllowed ? 'block' : 'none';\n",
              "\n",
              "        async function convertToInteractive(key) {\n",
              "          const element = document.querySelector('#df-c5290cb2-d639-439d-8646-3be4dfc7c8a2');\n",
              "          const dataTable =\n",
              "            await google.colab.kernel.invokeFunction('convertToInteractive',\n",
              "                                                     [key], {});\n",
              "          if (!dataTable) return;\n",
              "\n",
              "          const docLinkHtml = 'Like what you see? Visit the ' +\n",
              "            '<a target=\"_blank\" href=https://colab.research.google.com/notebooks/data_table.ipynb>data table notebook</a>'\n",
              "            + ' to learn more about interactive tables.';\n",
              "          element.innerHTML = '';\n",
              "          dataTable['output_type'] = 'display_data';\n",
              "          await google.colab.output.renderOutput(dataTable, element);\n",
              "          const docLink = document.createElement('div');\n",
              "          docLink.innerHTML = docLinkHtml;\n",
              "          element.appendChild(docLink);\n",
              "        }\n",
              "      </script>\n",
              "    </div>\n",
              "  </div>\n",
              "  "
            ]
          },
          "metadata": {},
          "execution_count": 93
        }
      ]
    },
    {
      "cell_type": "code",
      "source": [],
      "metadata": {
        "id": "_MVLhfyOO8_A"
      },
      "execution_count": null,
      "outputs": []
    },
    {
      "cell_type": "code",
      "source": [],
      "metadata": {
        "id": "YS1c6PgDO9fJ"
      },
      "execution_count": null,
      "outputs": []
    },
    {
      "cell_type": "markdown",
      "source": [
        "## **EDA Sebaran Data Ketenagakerjaan Maluku Utara (Sakernas, 2020)**"
      ],
      "metadata": {
        "id": "63flBbtNZxPc"
      }
    },
    {
      "cell_type": "markdown",
      "source": [
        "## Angkatan Kerja"
      ],
      "metadata": {
        "id": "ZusMbp2H-xFZ"
      }
    },
    {
      "cell_type": "code",
      "source": [
        "plt.figure(figsize=(12,6))\n",
        "features = ['kode_kab', 'Gender', 'Marital_Stat', 'Covid_Grad','Looking_for_Job', 'Prepare_Business', 'AgeGroup', 'Education', 'Labor_Stat']\n",
        "for i in range(0, len(features)):\n",
        "    plt.subplot(2, len(features)//2 + 1, i+1)\n",
        "    #plt.subplot(1, len(features), i+1)\n",
        "    sns.distplot(x=angkatankerja[features[i]], color='skyblue')\n",
        "    plt.xlabel(features[i])"
      ],
      "metadata": {
        "colab": {
          "base_uri": "https://localhost:8080/",
          "height": 389
        },
        "id": "0C09_x40E53R",
        "outputId": "ea72a462-100b-4186-8985-a4ac33d5549a"
      },
      "execution_count": 96,
      "outputs": [
        {
          "output_type": "display_data",
          "data": {
            "text/plain": [
              "<Figure size 864x432 with 9 Axes>"
            ],
            "image/png": "[encoded data removed]"
          },
          "metadata": {
            "needs_background": "light"
          }
        }
      ]
    },
    {
      "cell_type": "markdown",
      "source": [
        "**Observation:**\n",
        "- Labor force in Norten Maluku spread balance (proportional to it polulation) all over regions\n",
        "- Labor force dominated by man than woman\n",
        "- Most of the labor force are married\n",
        "- Only small part of them graduated in pandemic period\n",
        "- Small part of them are now preparing a business\n",
        "- Age of labour force are spread balance in all of the group age, with highest numbers in range 35 yo - 44 yo\n",
        "- Education level of labor dominated by high school Graduate (middle school, high school, and vocational high school)\n",
        "- Unemployment rate consider small\n"
      ],
      "metadata": {
        "id": "Y7uUXyyX3eWl"
      }
    },
    {
      "cell_type": "code",
      "source": [
        "correlation = angkatankerja.corr()\n",
        "sns.heatmap(correlation, annot=True, fmt='.2f')"
      ],
      "metadata": {
        "colab": {
          "base_uri": "https://localhost:8080/",
          "height": 404
        },
        "id": "aWw-8Mwo_oau",
        "outputId": "5eac713a-3e0a-4cac-ae31-97d644bbbab3"
      },
      "execution_count": 97,
      "outputs": [
        {
          "output_type": "execute_result",
          "data": {
            "text/plain": [
              "<matplotlib.axes._subplots.AxesSubplot at 0x7fe21fd93210>"
            ]
          },
          "metadata": {},
          "execution_count": 97
        },
        {
          "output_type": "display_data",
          "data": {
            "text/plain": [
              "<Figure size 432x288 with 2 Axes>"
            ],
            "image/png": "[encoded data removed]"
          },
          "metadata": {
            "needs_background": "light"
          }
        }
      ]
    },
    {
      "cell_type": "markdown",
      "source": [
        "**Observation:**\n",
        "- Based on 0.8 correlation, there are no feature that needs to be dropped. But there are some noticable correaltion:\n",
        "- there is a noticable correlation between Reason Why People not Looking for a Job, with Status of Looking for a Job (0.7)\n",
        "- there is noticable correlation between Marital Status and Age Group\n",
        "- there is also noticable correlation between People Who Graduate at pandemic period (August 2019 - Augus 2020) with Education level (0.41)"
      ],
      "metadata": {
        "id": "OqxdLKA_N_KR"
      }
    },
    {
      "cell_type": "markdown",
      "source": [
        "### Dictionary"
      ],
      "metadata": {
        "id": "dp2fYdT1mKrI"
      }
    },
    {
      "cell_type": "code",
      "source": [
        "education_dict = {\n",
        "    1 :'Belum SD',\n",
        "    2 :'SD',\n",
        "    3 :'SMP',\n",
        "    4 :'SMA',\n",
        "    5 :'SMK',\n",
        "    6 :'DI/DII/DIII',\n",
        "    7:'DIV', \n",
        "    8: 'S1/S2/S3'\n",
        "}\n",
        "\n",
        "sex_dict = {\n",
        "    1 :'Laki-Laki',\n",
        "    2 :'Perempuan'\n",
        "}\n",
        "\n",
        "age_dict = {\n",
        "    1 :'0-9',\n",
        "    2 :'10-14',\n",
        "    3 :'15-19',\n",
        "    4 :'20-24',\n",
        "    5 :'25-29',\n",
        "    6 :'30-34',\n",
        "    7:'35-39', \n",
        "    8:'40-44',\n",
        "    9:'45-49',\n",
        "    10: '50-54',\n",
        "    11: '55-59',\n",
        "    12: '60++'\n",
        "}\n",
        "\n",
        "marital_dict = {\n",
        "    1 :'Belum Menikah',\n",
        "    2 :'Menikah',\n",
        "    3 :'Cerai Hidup',\n",
        "    4 :'Cerai Mati'\n",
        "}\n",
        "\n",
        "reason_dict = {\n",
        "    1 :'Belum Mulai Kerja',\n",
        "    2 :'Menyiapkan Usaha',\n",
        "    3 :'Putus Asa',\n",
        "    4 :'Sudah ada kerja',\n",
        "    5 :'Urus Rumah/Sekolah',\n",
        "    6 :'Tidak ada Modal',\n",
        "    7:'Takud Cov', \n",
        "    8: 'PSBB',\n",
        "    9: 'Tidak Mampu',\n",
        "    10: 'dll'\n",
        "}"
      ],
      "metadata": {
        "id": "mw6-RLdYmRz5"
      },
      "execution_count": 238,
      "outputs": []
    },
    {
      "cell_type": "code",
      "source": [
        "angkatankerja_disp = angkatankerja.copy()"
      ],
      "metadata": {
        "id": "gNqFVDmQNlkf"
      },
      "execution_count": 239,
      "outputs": []
    },
    {
      "cell_type": "code",
      "source": [
        "angkatankerja_disp['Education'] = angkatankerja_disp['Education'].map(education_dict)\n",
        "angkatankerja_disp['Gender'] = angkatankerja_disp['Gender'].map(sex_dict)\n",
        "angkatankerja_disp['AgeGroup'] = angkatankerja_disp['AgeGroup'].map(age_dict)"
      ],
      "metadata": {
        "id": "vZ3_j7PGNjUi"
      },
      "execution_count": 240,
      "outputs": []
    },
    {
      "cell_type": "code",
      "source": [
        "plt.figure(figsize = (14, 7))\n",
        "cp1 = sns.countplot(data=angkatankerja_disp,\n",
        "            hue='Gender', order = angkatankerja_disp['Education'].value_counts().index[::1],\n",
        "            x='Education')\n",
        "#cp1.set_xlabel(\"Level of Education\", fontsize = 12)\n",
        "cp1.set_title('Labor Force in Northern Maluku Based on Education and Gender (NLFS, 2020-II)', fontsize=18, fontweight='bold', color='black')"
      ],
      "metadata": {
        "colab": {
          "base_uri": "https://localhost:8080/",
          "height": 479
        },
        "id": "hDsl3UMhNYM8",
        "outputId": "71271634-2dc2-4ce2-c720-549d969a73d5"
      },
      "execution_count": 259,
      "outputs": [
        {
          "output_type": "execute_result",
          "data": {
            "text/plain": [
              "Text(0.5, 1.0, 'Labor Force in Northern Maluku Based on Education and Gender (NLFS, 2020-II)')"
            ]
          },
          "metadata": {},
          "execution_count": 259
        },
        {
          "output_type": "display_data",
          "data": {
            "text/plain": [
              "<Figure size 1008x504 with 1 Axes>"
            ],
            "image/png": "[encoded data removed]"
          },
          "metadata": {
            "needs_background": "light"
          }
        }
      ]
    },
    {
      "cell_type": "markdown",
      "source": [
        "Observationn:\n",
        "- In general, Labor Force in Northern Maluku dominated by Midle Highschool educational background (suspected still continue their school), followed by Vocational Highschool."
      ],
      "metadata": {
        "id": "FfqRju-IOpNk"
      }
    },
    {
      "cell_type": "code",
      "source": [
        "plt.figure(figsize = (24, 10))\n",
        "cp2 = sns.countplot(data=angkatankerja_disp,\n",
        "            order = angkatankerja_disp['AgeGroup'].value_counts().index[::1],\n",
        "            hue='Education', \n",
        "            x='AgeGroup')\n",
        "cp2.set_xlabel(\"Age of Group\")\n",
        "cp2.set_title('Labor Force in Northern Maluku Based on Education and Age Group (NLFS, 2020-II)', fontsize=18, fontweight='bold', color='black')"
      ],
      "metadata": {
        "colab": {
          "base_uri": "https://localhost:8080/",
          "height": 446
        },
        "id": "Ov95VCcvOrw9",
        "outputId": "3ab8ce50-7407-4954-c829-59d7e6ec35c2"
      },
      "execution_count": 269,
      "outputs": [
        {
          "output_type": "execute_result",
          "data": {
            "text/plain": [
              "Text(0.5, 1.0, 'Labor Force in Northern Maluku Based on Education and Age Group (NLFS, 2020-II)')"
            ]
          },
          "metadata": {},
          "execution_count": 269
        },
        {
          "output_type": "display_data",
          "data": {
            "text/plain": [
              "<Figure size 1728x720 with 1 Axes>"
            ],
            "image/png": "[encoded data removed]"
          },
          "metadata": {
            "needs_background": "light"
          }
        }
      ]
    },
    {
      "cell_type": "markdown",
      "source": [
        "**Observasi:**\n",
        "- In general, labor force in Northern Maluku dominated by age group between 35-39 yo, followed by age group between 40-44 yo.\n"
      ],
      "metadata": {
        "id": "OBKd-iCWOsms"
      }
    },
    {
      "cell_type": "code",
      "source": [],
      "metadata": {
        "id": "IOcwFhX-PAiJ"
      },
      "execution_count": null,
      "outputs": []
    },
    {
      "cell_type": "code",
      "source": [],
      "metadata": {
        "id": "0W_qAN9HPE21"
      },
      "execution_count": null,
      "outputs": []
    },
    {
      "cell_type": "markdown",
      "source": [
        "## Pengangguran (Unemployment)"
      ],
      "metadata": {
        "id": "de58KNQMAwEP"
      }
    },
    {
      "cell_type": "code",
      "source": [
        "plt.figure(figsize=(12,6))\n",
        "features = ['kode_kab', 'Gender', 'Marital_Stat', 'Covid_Grad', 'AgeGroup', 'Education', 'Looking_for_Job', 'Prepare_Business', 'NotLookingForJob_Reason']\n",
        "for i in range(0, len(features)):\n",
        "    plt.subplot(2, len(features)//2 + 1, i+1)\n",
        "    #plt.subplot(1, len(features), i+1)\n",
        "    sns.distplot(x=pengangguran[features[i]], color='skyblue')\n",
        "    plt.xlabel(features[i])\n",
        "    plt.tight_layout()"
      ],
      "metadata": {
        "colab": {
          "base_uri": "https://localhost:8080/",
          "height": 441
        },
        "id": "HmLfDV0hA16q",
        "outputId": "191cab80-5e9a-40ab-ddd7-f71e5c53e389"
      },
      "execution_count": 243,
      "outputs": [
        {
          "output_type": "display_data",
          "data": {
            "text/plain": [
              "<Figure size 864x432 with 9 Axes>"
            ],
            "image/png": "[encoded data removed]"
          },
          "metadata": {
            "needs_background": "light"
          }
        }
      ]
    },
    {
      "cell_type": "markdown",
      "source": [
        "**Observation:**\n",
        "- Unemployment in Norther Maluku consist of more man than woman (allign with the gender proportion in labor force)\n",
        "- Unemployment in Single person are higher than married person.\n",
        "- Small part of them are graduated in the pandemic period\n",
        "- Most of the unemployment are in the adjacent age group, dominant by the age between 20 yo - 25 yo.\n",
        "- Some of the unemployment are not looking for job either. The reasons are vary: already had a job but not start yet; currently preparing a business; but mostly because they feel hopeless that they can get a job\n",
        "- Surprisingly, unemployment in Northen Maluku dominated by they who had Vocational Highschool education level\n",
        "- Another surprise:  Unemployment numbers between middle highschool, highschool and Higher Education level are same. \n"
      ],
      "metadata": {
        "id": "hWm56-ecUa1f"
      }
    },
    {
      "cell_type": "code",
      "source": [
        "pengangguran_disp = pengangguran.copy()"
      ],
      "metadata": {
        "id": "SEZ3y-4cE75j"
      },
      "execution_count": 244,
      "outputs": []
    },
    {
      "cell_type": "code",
      "source": [
        "pengangguran.head()"
      ],
      "metadata": {
        "colab": {
          "base_uri": "https://localhost:8080/",
          "height": 270
        },
        "id": "Jv1hfp3rFPrz",
        "outputId": "1ee27dad-b230-4b2e-8a46-447a2704ea8e"
      },
      "execution_count": 245,
      "outputs": [
        {
          "output_type": "execute_result",
          "data": {
            "text/plain": [
              "    kode_kab  Gender  Marital_Stat  Covid_Grad  Looking_for_Job  \\\n",
              "11       1.0     2.0           4.0         2.0              1.0   \n",
              "46       1.0     1.0           2.0         0.0              1.0   \n",
              "58       1.0     1.0           2.0         2.0              1.0   \n",
              "77       1.0     1.0           2.0         2.0              1.0   \n",
              "84       1.0     1.0           2.0         2.0              1.0   \n",
              "\n",
              "    Prepare_Business  NotLookingForJob_Reason  Labor_Stat  AgeGroup  Education  \n",
              "11               2.0                      0.0         2.0      11.0        6.0  \n",
              "46               2.0                      0.0         2.0       9.0        2.0  \n",
              "58               2.0                      0.0         2.0      11.0        5.0  \n",
              "77               2.0                      0.0         2.0      10.0        3.0  \n",
              "84               2.0                      0.0         2.0      11.0        3.0  "
            ],
            "text/html": [
              "\n",
              "  <div id=\"df-c9a5fe75-05f7-4fd5-9e04-c6cf7866f965\">\n",
              "    <div class=\"colab-df-container\">\n",
              "      <div>\n",
              "<style scoped>\n",
              "    .dataframe tbody tr th:only-of-type {\n",
              "        vertical-align: middle;\n",
              "    }\n",
              "\n",
              "    .dataframe tbody tr th {\n",
              "        vertical-align: top;\n",
              "    }\n",
              "\n",
              "    .dataframe thead th {\n",
              "        text-align: right;\n",
              "    }\n",
              "</style>\n",
              "<table border=\"1\" class=\"dataframe\">\n",
              "  <thead>\n",
              "    <tr style=\"text-align: right;\">\n",
              "      <th></th>\n",
              "      <th>kode_kab</th>\n",
              "      <th>Gender</th>\n",
              "      <th>Marital_Stat</th>\n",
              "      <th>Covid_Grad</th>\n",
              "      <th>Looking_for_Job</th>\n",
              "      <th>Prepare_Business</th>\n",
              "      <th>NotLookingForJob_Reason</th>\n",
              "      <th>Labor_Stat</th>\n",
              "      <th>AgeGroup</th>\n",
              "      <th>Education</th>\n",
              "    </tr>\n",
              "  </thead>\n",
              "  <tbody>\n",
              "    <tr>\n",
              "      <th>11</th>\n",
              "      <td>1.0</td>\n",
              "      <td>2.0</td>\n",
              "      <td>4.0</td>\n",
              "      <td>2.0</td>\n",
              "      <td>1.0</td>\n",
              "      <td>2.0</td>\n",
              "      <td>0.0</td>\n",
              "      <td>2.0</td>\n",
              "      <td>11.0</td>\n",
              "      <td>6.0</td>\n",
              "    </tr>\n",
              "    <tr>\n",
              "      <th>46</th>\n",
              "      <td>1.0</td>\n",
              "      <td>1.0</td>\n",
              "      <td>2.0</td>\n",
              "      <td>0.0</td>\n",
              "      <td>1.0</td>\n",
              "      <td>2.0</td>\n",
              "      <td>0.0</td>\n",
              "      <td>2.0</td>\n",
              "      <td>9.0</td>\n",
              "      <td>2.0</td>\n",
              "    </tr>\n",
              "    <tr>\n",
              "      <th>58</th>\n",
              "      <td>1.0</td>\n",
              "      <td>1.0</td>\n",
              "      <td>2.0</td>\n",
              "      <td>2.0</td>\n",
              "      <td>1.0</td>\n",
              "      <td>2.0</td>\n",
              "      <td>0.0</td>\n",
              "      <td>2.0</td>\n",
              "      <td>11.0</td>\n",
              "      <td>5.0</td>\n",
              "    </tr>\n",
              "    <tr>\n",
              "      <th>77</th>\n",
              "      <td>1.0</td>\n",
              "      <td>1.0</td>\n",
              "      <td>2.0</td>\n",
              "      <td>2.0</td>\n",
              "      <td>1.0</td>\n",
              "      <td>2.0</td>\n",
              "      <td>0.0</td>\n",
              "      <td>2.0</td>\n",
              "      <td>10.0</td>\n",
              "      <td>3.0</td>\n",
              "    </tr>\n",
              "    <tr>\n",
              "      <th>84</th>\n",
              "      <td>1.0</td>\n",
              "      <td>1.0</td>\n",
              "      <td>2.0</td>\n",
              "      <td>2.0</td>\n",
              "      <td>1.0</td>\n",
              "      <td>2.0</td>\n",
              "      <td>0.0</td>\n",
              "      <td>2.0</td>\n",
              "      <td>11.0</td>\n",
              "      <td>3.0</td>\n",
              "    </tr>\n",
              "  </tbody>\n",
              "</table>\n",
              "</div>\n",
              "      <button class=\"colab-df-convert\" onclick=\"convertToInteractive('df-c9a5fe75-05f7-4fd5-9e04-c6cf7866f965')\"\n",
              "              title=\"Convert this dataframe to an interactive table.\"\n",
              "              style=\"display:none;\">\n",
              "        \n",
              "  <svg xmlns=\"http://www.w3.org/2000/svg\" height=\"24px\"viewBox=\"0 0 24 24\"\n",
              "       width=\"24px\">\n",
              "    <path d=\"M0 0h24v24H0V0z\" fill=\"none\"/>\n",
              "    <path d=\"M18.56 5.44l.94 2.06.94-2.06 2.06-.94-2.06-.94-.94-2.06-.94 2.06-2.06.94zm-11 1L8.5 8.5l.94-2.06 2.06-.94-2.06-.94L8.5 2.5l-.94 2.06-2.06.94zm10 10l.94 2.06.94-2.06 2.06-.94-2.06-.94-.94-2.06-.94 2.06-2.06.94z\"/><path d=\"M17.41 7.96l-1.37-1.37c-.4-.4-.92-.59-1.43-.59-.52 0-1.04.2-1.43.59L10.3 9.45l-7.72 7.72c-.78.78-.78 2.05 0 2.83L4 21.41c.39.39.9.59 1.41.59.51 0 1.02-.2 1.41-.59l7.78-7.78 2.81-2.81c.8-.78.8-2.07 0-2.86zM5.41 20L4 18.59l7.72-7.72 1.47 1.35L5.41 20z\"/>\n",
              "  </svg>\n",
              "      </button>\n",
              "      \n",
              "  <style>\n",
              "    .colab-df-container {\n",
              "      display:flex;\n",
              "      flex-wrap:wrap;\n",
              "      gap: 12px;\n",
              "    }\n",
              "\n",
              "    .colab-df-convert {\n",
              "      background-color: #E8F0FE;\n",
              "      border: none;\n",
              "      border-radius: 50%;\n",
              "      cursor: pointer;\n",
              "      display: none;\n",
              "      fill: #1967D2;\n",
              "      height: 32px;\n",
              "      padding: 0 0 0 0;\n",
              "      width: 32px;\n",
              "    }\n",
              "\n",
              "    .colab-df-convert:hover {\n",
              "      background-color: #E2EBFA;\n",
              "      box-shadow: 0px 1px 2px rgba(60, 64, 67, 0.3), 0px 1px 3px 1px rgba(60, 64, 67, 0.15);\n",
              "      fill: #174EA6;\n",
              "    }\n",
              "\n",
              "    [theme=dark] .colab-df-convert {\n",
              "      background-color: #3B4455;\n",
              "      fill: #D2E3FC;\n",
              "    }\n",
              "\n",
              "    [theme=dark] .colab-df-convert:hover {\n",
              "      background-color: #434B5C;\n",
              "      box-shadow: 0px 1px 3px 1px rgba(0, 0, 0, 0.15);\n",
              "      filter: drop-shadow(0px 1px 2px rgba(0, 0, 0, 0.3));\n",
              "      fill: #FFFFFF;\n",
              "    }\n",
              "  </style>\n",
              "\n",
              "      <script>\n",
              "        const buttonEl =\n",
              "          document.querySelector('#df-c9a5fe75-05f7-4fd5-9e04-c6cf7866f965 button.colab-df-convert');\n",
              "        buttonEl.style.display =\n",
              "          google.colab.kernel.accessAllowed ? 'block' : 'none';\n",
              "\n",
              "        async function convertToInteractive(key) {\n",
              "          const element = document.querySelector('#df-c9a5fe75-05f7-4fd5-9e04-c6cf7866f965');\n",
              "          const dataTable =\n",
              "            await google.colab.kernel.invokeFunction('convertToInteractive',\n",
              "                                                     [key], {});\n",
              "          if (!dataTable) return;\n",
              "\n",
              "          const docLinkHtml = 'Like what you see? Visit the ' +\n",
              "            '<a target=\"_blank\" href=https://colab.research.google.com/notebooks/data_table.ipynb>data table notebook</a>'\n",
              "            + ' to learn more about interactive tables.';\n",
              "          element.innerHTML = '';\n",
              "          dataTable['output_type'] = 'display_data';\n",
              "          await google.colab.output.renderOutput(dataTable, element);\n",
              "          const docLink = document.createElement('div');\n",
              "          docLink.innerHTML = docLinkHtml;\n",
              "          element.appendChild(docLink);\n",
              "        }\n",
              "      </script>\n",
              "    </div>\n",
              "  </div>\n",
              "  "
            ]
          },
          "metadata": {},
          "execution_count": 245
        }
      ]
    },
    {
      "cell_type": "code",
      "source": [
        "pengangguran_disp['Education'] = pengangguran_disp['Education'].map(education_dict)\n",
        "pengangguran_disp['Gender'] = pengangguran_disp['Gender'].map(sex_dict)\n",
        "pengangguran_disp['AgeGroup'] = pengangguran_disp['AgeGroup'].map(age_dict)\n",
        "\n"
      ],
      "metadata": {
        "id": "JowOgshkFB1p"
      },
      "execution_count": 246,
      "outputs": []
    },
    {
      "cell_type": "code",
      "source": [
        "pengangguran_disp.head()"
      ],
      "metadata": {
        "colab": {
          "base_uri": "https://localhost:8080/",
          "height": 270
        },
        "id": "x5NQc7sJFekZ",
        "outputId": "a05cf45a-cc40-4d73-835c-6e42f8970705"
      },
      "execution_count": 247,
      "outputs": [
        {
          "output_type": "execute_result",
          "data": {
            "text/plain": [
              "    kode_kab     Gender  Marital_Stat  Covid_Grad  Looking_for_Job  \\\n",
              "11       1.0  Perempuan           4.0         2.0              1.0   \n",
              "46       1.0  Laki-Laki           2.0         0.0              1.0   \n",
              "58       1.0  Laki-Laki           2.0         2.0              1.0   \n",
              "77       1.0  Laki-Laki           2.0         2.0              1.0   \n",
              "84       1.0  Laki-Laki           2.0         2.0              1.0   \n",
              "\n",
              "    Prepare_Business  NotLookingForJob_Reason  Labor_Stat AgeGroup  \\\n",
              "11               2.0                      0.0         2.0    55-59   \n",
              "46               2.0                      0.0         2.0    45-49   \n",
              "58               2.0                      0.0         2.0    55-59   \n",
              "77               2.0                      0.0         2.0    50-54   \n",
              "84               2.0                      0.0         2.0    55-59   \n",
              "\n",
              "      Education  \n",
              "11  DI/DII/DIII  \n",
              "46           SD  \n",
              "58          SMK  \n",
              "77          SMP  \n",
              "84          SMP  "
            ],
            "text/html": [
              "\n",
              "  <div id=\"df-e905b2fa-c075-41a9-86c7-b8ea723155a2\">\n",
              "    <div class=\"colab-df-container\">\n",
              "      <div>\n",
              "<style scoped>\n",
              "    .dataframe tbody tr th:only-of-type {\n",
              "        vertical-align: middle;\n",
              "    }\n",
              "\n",
              "    .dataframe tbody tr th {\n",
              "        vertical-align: top;\n",
              "    }\n",
              "\n",
              "    .dataframe thead th {\n",
              "        text-align: right;\n",
              "    }\n",
              "</style>\n",
              "<table border=\"1\" class=\"dataframe\">\n",
              "  <thead>\n",
              "    <tr style=\"text-align: right;\">\n",
              "      <th></th>\n",
              "      <th>kode_kab</th>\n",
              "      <th>Gender</th>\n",
              "      <th>Marital_Stat</th>\n",
              "      <th>Covid_Grad</th>\n",
              "      <th>Looking_for_Job</th>\n",
              "      <th>Prepare_Business</th>\n",
              "      <th>NotLookingForJob_Reason</th>\n",
              "      <th>Labor_Stat</th>\n",
              "      <th>AgeGroup</th>\n",
              "      <th>Education</th>\n",
              "    </tr>\n",
              "  </thead>\n",
              "  <tbody>\n",
              "    <tr>\n",
              "      <th>11</th>\n",
              "      <td>1.0</td>\n",
              "      <td>Perempuan</td>\n",
              "      <td>4.0</td>\n",
              "      <td>2.0</td>\n",
              "      <td>1.0</td>\n",
              "      <td>2.0</td>\n",
              "      <td>0.0</td>\n",
              "      <td>2.0</td>\n",
              "      <td>55-59</td>\n",
              "      <td>DI/DII/DIII</td>\n",
              "    </tr>\n",
              "    <tr>\n",
              "      <th>46</th>\n",
              "      <td>1.0</td>\n",
              "      <td>Laki-Laki</td>\n",
              "      <td>2.0</td>\n",
              "      <td>0.0</td>\n",
              "      <td>1.0</td>\n",
              "      <td>2.0</td>\n",
              "      <td>0.0</td>\n",
              "      <td>2.0</td>\n",
              "      <td>45-49</td>\n",
              "      <td>SD</td>\n",
              "    </tr>\n",
              "    <tr>\n",
              "      <th>58</th>\n",
              "      <td>1.0</td>\n",
              "      <td>Laki-Laki</td>\n",
              "      <td>2.0</td>\n",
              "      <td>2.0</td>\n",
              "      <td>1.0</td>\n",
              "      <td>2.0</td>\n",
              "      <td>0.0</td>\n",
              "      <td>2.0</td>\n",
              "      <td>55-59</td>\n",
              "      <td>SMK</td>\n",
              "    </tr>\n",
              "    <tr>\n",
              "      <th>77</th>\n",
              "      <td>1.0</td>\n",
              "      <td>Laki-Laki</td>\n",
              "      <td>2.0</td>\n",
              "      <td>2.0</td>\n",
              "      <td>1.0</td>\n",
              "      <td>2.0</td>\n",
              "      <td>0.0</td>\n",
              "      <td>2.0</td>\n",
              "      <td>50-54</td>\n",
              "      <td>SMP</td>\n",
              "    </tr>\n",
              "    <tr>\n",
              "      <th>84</th>\n",
              "      <td>1.0</td>\n",
              "      <td>Laki-Laki</td>\n",
              "      <td>2.0</td>\n",
              "      <td>2.0</td>\n",
              "      <td>1.0</td>\n",
              "      <td>2.0</td>\n",
              "      <td>0.0</td>\n",
              "      <td>2.0</td>\n",
              "      <td>55-59</td>\n",
              "      <td>SMP</td>\n",
              "    </tr>\n",
              "  </tbody>\n",
              "</table>\n",
              "</div>\n",
              "      <button class=\"colab-df-convert\" onclick=\"convertToInteractive('df-e905b2fa-c075-41a9-86c7-b8ea723155a2')\"\n",
              "              title=\"Convert this dataframe to an interactive table.\"\n",
              "              style=\"display:none;\">\n",
              "        \n",
              "  <svg xmlns=\"http://www.w3.org/2000/svg\" height=\"24px\"viewBox=\"0 0 24 24\"\n",
              "       width=\"24px\">\n",
              "    <path d=\"M0 0h24v24H0V0z\" fill=\"none\"/>\n",
              "    <path d=\"M18.56 5.44l.94 2.06.94-2.06 2.06-.94-2.06-.94-.94-2.06-.94 2.06-2.06.94zm-11 1L8.5 8.5l.94-2.06 2.06-.94-2.06-.94L8.5 2.5l-.94 2.06-2.06.94zm10 10l.94 2.06.94-2.06 2.06-.94-2.06-.94-.94-2.06-.94 2.06-2.06.94z\"/><path d=\"M17.41 7.96l-1.37-1.37c-.4-.4-.92-.59-1.43-.59-.52 0-1.04.2-1.43.59L10.3 9.45l-7.72 7.72c-.78.78-.78 2.05 0 2.83L4 21.41c.39.39.9.59 1.41.59.51 0 1.02-.2 1.41-.59l7.78-7.78 2.81-2.81c.8-.78.8-2.07 0-2.86zM5.41 20L4 18.59l7.72-7.72 1.47 1.35L5.41 20z\"/>\n",
              "  </svg>\n",
              "      </button>\n",
              "      \n",
              "  <style>\n",
              "    .colab-df-container {\n",
              "      display:flex;\n",
              "      flex-wrap:wrap;\n",
              "      gap: 12px;\n",
              "    }\n",
              "\n",
              "    .colab-df-convert {\n",
              "      background-color: #E8F0FE;\n",
              "      border: none;\n",
              "      border-radius: 50%;\n",
              "      cursor: pointer;\n",
              "      display: none;\n",
              "      fill: #1967D2;\n",
              "      height: 32px;\n",
              "      padding: 0 0 0 0;\n",
              "      width: 32px;\n",
              "    }\n",
              "\n",
              "    .colab-df-convert:hover {\n",
              "      background-color: #E2EBFA;\n",
              "      box-shadow: 0px 1px 2px rgba(60, 64, 67, 0.3), 0px 1px 3px 1px rgba(60, 64, 67, 0.15);\n",
              "      fill: #174EA6;\n",
              "    }\n",
              "\n",
              "    [theme=dark] .colab-df-convert {\n",
              "      background-color: #3B4455;\n",
              "      fill: #D2E3FC;\n",
              "    }\n",
              "\n",
              "    [theme=dark] .colab-df-convert:hover {\n",
              "      background-color: #434B5C;\n",
              "      box-shadow: 0px 1px 3px 1px rgba(0, 0, 0, 0.15);\n",
              "      filter: drop-shadow(0px 1px 2px rgba(0, 0, 0, 0.3));\n",
              "      fill: #FFFFFF;\n",
              "    }\n",
              "  </style>\n",
              "\n",
              "      <script>\n",
              "        const buttonEl =\n",
              "          document.querySelector('#df-e905b2fa-c075-41a9-86c7-b8ea723155a2 button.colab-df-convert');\n",
              "        buttonEl.style.display =\n",
              "          google.colab.kernel.accessAllowed ? 'block' : 'none';\n",
              "\n",
              "        async function convertToInteractive(key) {\n",
              "          const element = document.querySelector('#df-e905b2fa-c075-41a9-86c7-b8ea723155a2');\n",
              "          const dataTable =\n",
              "            await google.colab.kernel.invokeFunction('convertToInteractive',\n",
              "                                                     [key], {});\n",
              "          if (!dataTable) return;\n",
              "\n",
              "          const docLinkHtml = 'Like what you see? Visit the ' +\n",
              "            '<a target=\"_blank\" href=https://colab.research.google.com/notebooks/data_table.ipynb>data table notebook</a>'\n",
              "            + ' to learn more about interactive tables.';\n",
              "          element.innerHTML = '';\n",
              "          dataTable['output_type'] = 'display_data';\n",
              "          await google.colab.output.renderOutput(dataTable, element);\n",
              "          const docLink = document.createElement('div');\n",
              "          docLink.innerHTML = docLinkHtml;\n",
              "          element.appendChild(docLink);\n",
              "        }\n",
              "      </script>\n",
              "    </div>\n",
              "  </div>\n",
              "  "
            ]
          },
          "metadata": {},
          "execution_count": 247
        }
      ]
    },
    {
      "cell_type": "code",
      "source": [
        "plt.figure(figsize = (14, 7))\n",
        "cp1 = sns.countplot(data=pengangguran_disp,\n",
        "            hue='Gender', order = pengangguran_disp['Education'].value_counts().index[::1],\n",
        "            x='Education')\n",
        "#cp1.set_xlabel(\"Level of Education\", fontsize = 12)\n",
        "cp1.set_title('Unemployment in Northern Maluku Based on Education and Gender (NLFS, 2020-II)', fontsize=18, fontweight='bold', color='black')"
      ],
      "metadata": {
        "colab": {
          "base_uri": "https://localhost:8080/",
          "height": 479
        },
        "id": "EdYoM6npOrX4",
        "outputId": "59998a11-4310-40f1-f0ac-a598faa1c24b"
      },
      "execution_count": 261,
      "outputs": [
        {
          "output_type": "execute_result",
          "data": {
            "text/plain": [
              "Text(0.5, 1.0, 'Unemployment in Northern Maluku Based on Education and Gender (NLFS, 2020-II)')"
            ]
          },
          "metadata": {},
          "execution_count": 261
        },
        {
          "output_type": "display_data",
          "data": {
            "text/plain": [
              "<Figure size 1008x504 with 1 Axes>"
            ],
            "image/png": "[encoded data removed]"
          },
          "metadata": {
            "needs_background": "light"
          }
        }
      ]
    },
    {
      "cell_type": "markdown",
      "source": [
        "**Observation:**\n",
        "- Unemployment in Northern Maluku dominated by labor force who has Vocational Highschool education background, followed by they who graduate from higher education.\n",
        "- Dominated by Man than woman"
      ],
      "metadata": {
        "id": "iPm6LeD6VMpN"
      }
    },
    {
      "cell_type": "code",
      "source": [
        "plt.figure(figsize = (16, 10))\n",
        "cp2 = sns.countplot(data=pengangguran_disp,\n",
        "            order = pengangguran_disp['AgeGroup'].value_counts().index[::1],\n",
        "            hue='Education', \n",
        "            x='AgeGroup')\n",
        "cp2.set_xlabel(\"Age of Group\")\n",
        "cp2.set_title('Unemployment in Northern Maluku Based on Education and Age Group (NLFS, 2020-II)', fontsize=18, fontweight='bold', color='black')"
      ],
      "metadata": {
        "colab": {
          "base_uri": "https://localhost:8080/",
          "height": 642
        },
        "id": "f_ugjpgbQeMy",
        "outputId": "17dcad94-8673-4da7-a395-b4d7c234da97"
      },
      "execution_count": 262,
      "outputs": [
        {
          "output_type": "execute_result",
          "data": {
            "text/plain": [
              "Text(0.5, 1.0, 'Unemployment in Northern Maluku Based on Education and Age Group (NLFS, 2020-II)')"
            ]
          },
          "metadata": {},
          "execution_count": 262
        },
        {
          "output_type": "display_data",
          "data": {
            "text/plain": [
              "<Figure size 1152x720 with 1 Axes>"
            ],
            "image/png": "[encoded data removed]"
          },
          "metadata": {
            "needs_background": "light"
          }
        }
      ]
    },
    {
      "cell_type": "markdown",
      "source": [
        "**Observation:**\n",
        "- Unemployment in Northen Maluku dominated by labor force between 20 yo - 24 yo with educational background from Vocational Highschool\n",
        "-There is significant unemployment of Higher Education background people in aged between 25 - 29 yo."
      ],
      "metadata": {
        "id": "Y23AGxzTx9sK"
      }
    },
    {
      "cell_type": "code",
      "source": [],
      "metadata": {
        "id": "at9AB7YtPGh2"
      },
      "execution_count": null,
      "outputs": []
    },
    {
      "cell_type": "code",
      "source": [],
      "metadata": {
        "id": "JNdYwXUmPHFC"
      },
      "execution_count": null,
      "outputs": []
    },
    {
      "cell_type": "markdown",
      "source": [
        "## Bukan Angkatan Kerja"
      ],
      "metadata": {
        "id": "gR-10sxC0rSq"
      }
    },
    {
      "cell_type": "code",
      "source": [
        "plt.figure(figsize=(12,6))\n",
        "features = ['kode_kab', 'Gender', 'Marital_Stat', 'Covid_Grad', 'AgeGroup', 'Education', 'Looking_for_Job', 'Prepare_Business', 'NotLookingForJob_Reason']\n",
        "for i in range(0, len(features)):\n",
        "    plt.subplot(2, len(features)//2 + 1, i+1)\n",
        "    #plt.subplot(1, len(features), i+1)\n",
        "    sns.distplot(x=bukanAK[features[i]], color='skyblue')\n",
        "    plt.xlabel(features[i])\n",
        "    plt.tight_layout()"
      ],
      "metadata": {
        "colab": {
          "base_uri": "https://localhost:8080/",
          "height": 530
        },
        "id": "8oqDwCHq0txO",
        "outputId": "1a2bd49a-2242-4236-dae2-5bd8c61d2e83"
      },
      "execution_count": 119,
      "outputs": [
        {
          "output_type": "stream",
          "name": "stderr",
          "text": [
            "/usr/local/lib/python3.7/dist-packages/seaborn/distributions.py:316: UserWarning: Dataset has 0 variance; skipping density estimate. Pass `warn_singular=False` to disable this warning.\n",
            "  warnings.warn(msg, UserWarning)\n",
            "/usr/local/lib/python3.7/dist-packages/seaborn/distributions.py:316: UserWarning: Dataset has 0 variance; skipping density estimate. Pass `warn_singular=False` to disable this warning.\n",
            "  warnings.warn(msg, UserWarning)\n"
          ]
        },
        {
          "output_type": "display_data",
          "data": {
            "text/plain": [
              "<Figure size 864x432 with 9 Axes>"
            ],
            "image/png": "[encoded data removed]"
          },
          "metadata": {
            "needs_background": "light"
          }
        }
      ]
    },
    {
      "cell_type": "markdown",
      "source": [
        "**Observation:**\n",
        "- Non-Labor Force in Northern Maluku mostly consist of people who fo housekeeping or currently continue their education\n",
        "- Non Labor force dominated by woman than man\n",
        "- Non Labor dominated by poeple with Highschool educational background\n",
        "- Non-labor force mostly married"
      ],
      "metadata": {
        "id": "yv9MkIuP1ENW"
      }
    },
    {
      "cell_type": "code",
      "source": [
        "bukanAK_disp = bukanAK.copy()"
      ],
      "metadata": {
        "id": "hh2cDPNESFkR"
      },
      "execution_count": 250,
      "outputs": []
    },
    {
      "cell_type": "code",
      "source": [
        "bukanAK_disp['Education'] = bukanAK_disp['Education'].map(education_dict)\n",
        "bukanAK_disp['Gender'] = bukanAK_disp['Gender'].map(sex_dict)\n",
        "bukanAK_disp['AgeGroup'] = bukanAK_disp['AgeGroup'].map(age_dict)\n",
        "bukanAK_disp['Marital_Stat'] = bukanAK_disp['Marital_Stat'].map(marital_dict)"
      ],
      "metadata": {
        "id": "LWmRTn3vQwIC"
      },
      "execution_count": 251,
      "outputs": []
    },
    {
      "cell_type": "code",
      "source": [
        "plt.figure(figsize = (16, 10))\n",
        "cp1 = sns.countplot(data=bukanAK_disp, order = bukanAK_disp['Education'].value_counts().index[::1],\n",
        "            hue='Gender',\n",
        "            x='Education')\n",
        "#cp1.set_xlabel(\"Level of Education\", fontsize = 12)\n",
        "cp1.set_title('Non-Labor Force Based on Education and Gender (NLFS, 2020 - II)', fontsize=18, fontweight='bold', color='black')"
      ],
      "metadata": {
        "colab": {
          "base_uri": "https://localhost:8080/",
          "height": 640
        },
        "id": "oUSKjpyM1DKe",
        "outputId": "86647a66-579f-47a7-f154-becf80ceef36"
      },
      "execution_count": 265,
      "outputs": [
        {
          "output_type": "execute_result",
          "data": {
            "text/plain": [
              "Text(0.5, 1.0, 'Non-Labor Force Based on Education and Gender (NLFS, 2020 - II)')"
            ]
          },
          "metadata": {},
          "execution_count": 265
        },
        {
          "output_type": "display_data",
          "data": {
            "text/plain": [
              "<Figure size 1152x720 with 1 Axes>"
            ],
            "image/png": "[encoded data removed]"
          },
          "metadata": {
            "needs_background": "light"
          }
        }
      ]
    },
    {
      "cell_type": "markdown",
      "source": [
        "**Observation:**\n",
        "- Non labor force dominated by women in every level of educational background, with the highes number in highschool level education"
      ],
      "metadata": {
        "id": "VGWHtZ2l4ni0"
      }
    },
    {
      "cell_type": "code",
      "source": [
        "plt.figure(figsize = (16, 10))\n",
        "cp2 = sns.countplot(data=bukanAK_disp, order = bukanAK_disp['AgeGroup'].value_counts().index[::1],\n",
        "            hue='Education',\n",
        "            x='AgeGroup')\n",
        "cp2.set_xlabel(\"Age of Group\")\n",
        "cp2.set_title('Non-Labor Force Based on Age Group and Gender (NLFS, 2020-II)', fontsize=18, fontweight='bold', color='black')"
      ],
      "metadata": {
        "colab": {
          "base_uri": "https://localhost:8080/",
          "height": 640
        },
        "id": "BtbyS35y4x4I",
        "outputId": "cb1c7a86-bc0b-4a96-80e2-18c240d0b130"
      },
      "execution_count": 266,
      "outputs": [
        {
          "output_type": "execute_result",
          "data": {
            "text/plain": [
              "Text(0.5, 1.0, 'Non-Labor Force Based on Age Group and Gender (NLFS, 2020-II)')"
            ]
          },
          "metadata": {},
          "execution_count": 266
        },
        {
          "output_type": "display_data",
          "data": {
            "text/plain": [
              "<Figure size 1152x720 with 1 Axes>"
            ],
            "image/png": "[encoded data removed]"
          },
          "metadata": {
            "needs_background": "light"
          }
        }
      ]
    },
    {
      "cell_type": "markdown",
      "source": [
        "**Observation:**\n",
        "- Non Labor force dominated by younger age (15 - 19 yo) that has highschool education (suspected of continuing school/to higher education)\n",
        "- It followed by oldest age group (60++), and 20-24 yo age group with Vocational Highschool background"
      ],
      "metadata": {
        "id": "9wogClOi5FnP"
      }
    },
    {
      "cell_type": "code",
      "source": [
        "plt.figure(figsize = (16, 10))\n",
        "cp2 = sns.countplot(data=bukanAK_disp, order = bukanAK_disp['AgeGroup'].value_counts().index[::1],\n",
        "            hue='Marital_Stat',\n",
        "            x='AgeGroup')\n",
        "cp2.set_xlabel(\"Age of Group\")\n",
        "cp2.set_title('Non-Labor Force Based on AgeGroup and Marital Status (NLFS, 2020-II)', fontsize=18, fontweight='bold', color='black')"
      ],
      "metadata": {
        "colab": {
          "base_uri": "https://localhost:8080/",
          "height": 636
        },
        "id": "TpFziSXM6rmr",
        "outputId": "98bfe1e1-0d37-43a3-c1ec-34396e827911"
      },
      "execution_count": 268,
      "outputs": [
        {
          "output_type": "execute_result",
          "data": {
            "text/plain": [
              "Text(0.5, 1.0, 'Non-Labor Force Based on AgeGroup and Marital Status (NLFS, 2020-II)')"
            ]
          },
          "metadata": {},
          "execution_count": 268
        },
        {
          "output_type": "display_data",
          "data": {
            "text/plain": [
              "<Figure size 1152x720 with 1 Axes>"
            ],
            "image/png": "[encoded data removed]"
          },
          "metadata": {
            "needs_background": "light"
          }
        }
      ]
    },
    {
      "cell_type": "markdown",
      "source": [
        "Observation:\n",
        "- Non labor force mostly from younger age (15-19 yo) who not yet married, followed by 60++ group age who married, and 20-24 yo who not yet married."
      ],
      "metadata": {
        "id": "ktmIT7dD8pe8"
      }
    },
    {
      "cell_type": "code",
      "source": [],
      "metadata": {
        "id": "sFan-x138otf"
      },
      "execution_count": null,
      "outputs": []
    },
    {
      "cell_type": "code",
      "source": [],
      "metadata": {
        "id": "67xVC6KAPKBt"
      },
      "execution_count": null,
      "outputs": []
    },
    {
      "cell_type": "markdown",
      "source": [
        "## **Random Forest Model**\n",
        "\n",
        "- Untuk mengetahui metode terbaik pemodelan Random Forest, maka akan dibandingkan antara 3 metode : Original Data, Undersampling, dan Oversampling.\n",
        "- Untuk setiap metode akan dilihat berapa akurasi, presisi, recall dan F1 score nya\n",
        "- True Positif: Yang diklasifikasi pekerja adalah pekerja\n",
        "- True Negatif: yang diklasifikasi pengangguran adalah pengangguran\n",
        "- False positif: Yang diklasifikasi pengangguran adalah pekerja\n",
        "- False negatif: Yang diklasifikasi pekerja adalah pengangguran\n",
        "- Tujuan model: mengurangi false negatif, maka perlu yang recall nya tinggi"
      ],
      "metadata": {
        "id": "jZNMaIVGElaT"
      }
    },
    {
      "cell_type": "code",
      "source": [
        "dataskr['Labor_Stat'].value_counts()"
      ],
      "metadata": {
        "colab": {
          "base_uri": "https://localhost:8080/"
        },
        "id": "6hjYOG1SEkal",
        "outputId": "52fa65da-7b7b-4f14-eaa8-aa634b632a2c"
      },
      "execution_count": 126,
      "outputs": [
        {
          "output_type": "execute_result",
          "data": {
            "text/plain": [
              "1.0    7175\n",
              "3.0    4269\n",
              "2.0     382\n",
              "Name: Labor_Stat, dtype: int64"
            ]
          },
          "metadata": {},
          "execution_count": 126
        }
      ]
    },
    {
      "cell_type": "code",
      "source": [
        "dataskr_update = dataskr[dataskr[\"Labor_Stat\"] < 3]"
      ],
      "metadata": {
        "id": "6WQUy-kgfw-t"
      },
      "execution_count": 127,
      "outputs": []
    },
    {
      "cell_type": "code",
      "source": [
        "dataskr_update['Labor_Stat'].value_counts()"
      ],
      "metadata": {
        "colab": {
          "base_uri": "https://localhost:8080/"
        },
        "id": "NoqvUbY7gbIe",
        "outputId": "fd845586-0864-4d2b-dc70-cbaa8ae783a0"
      },
      "execution_count": 56,
      "outputs": [
        {
          "output_type": "execute_result",
          "data": {
            "text/plain": [
              "1.0    7175\n",
              "2.0     382\n",
              "Name: Labor_Stat, dtype: int64"
            ]
          },
          "metadata": {},
          "execution_count": 56
        }
      ]
    },
    {
      "cell_type": "code",
      "source": [
        "from sklearn.model_selection import train_test_split"
      ],
      "metadata": {
        "id": "VZoqz8TwS_He"
      },
      "execution_count": 57,
      "outputs": []
    },
    {
      "cell_type": "code",
      "source": [
        "df_train, df_test = train_test_split(dataskr_update, \n",
        "                                     test_size = 0.2, random_state = 1) "
      ],
      "metadata": {
        "id": "oh5xW0pXTDpn"
      },
      "execution_count": 58,
      "outputs": []
    },
    {
      "cell_type": "code",
      "source": [
        "x_train_data = df_train.loc[:, df_train.columns!='Labor_Stat']\n",
        "y_train_data = df_train.loc[:, df_train.columns=='Labor_Stat']\n",
        "\n",
        "x_test_data = df_test.loc[:, df_test.columns!='Labor_Stat']\n",
        "y_test_data = df_test.loc[:, df_test.columns=='Labor_Stat']"
      ],
      "metadata": {
        "id": "CETMHd1xTQfd"
      },
      "execution_count": 128,
      "outputs": []
    },
    {
      "cell_type": "code",
      "source": [
        "from sklearn.ensemble import RandomForestClassifier\n",
        "from sklearn.metrics import accuracy_score\n",
        "from sklearn.metrics import classification_report\n",
        "from sklearn.metrics import confusion_matrix"
      ],
      "metadata": {
        "id": "_8YRbfKIS4ds"
      },
      "execution_count": 129,
      "outputs": []
    },
    {
      "cell_type": "code",
      "source": [
        "def evaluate(model, x_test = x_test_data, y_test = y_test_data):\n",
        "    y_pred = model.predict(x_test)    \n",
        "    print('Accuracy:', accuracy_score(y_test, y_pred))\n",
        "    print('------')\n",
        "    print('Confusion Matrix:')\n",
        "    print()\n",
        "    print(classification_report(y_test, y_pred))\n",
        "    print('------')\n",
        "    \n",
        "    tn, fp, fn, tp = confusion_matrix(y_test, y_pred).ravel()\n",
        "    print('Assuming 1 as positive, we get:')\n",
        "    print('')\n",
        "    print('True Positive:', tp)\n",
        "    print('True Negative:', tn)\n",
        "    print('False Positive:', fp)\n",
        "    print('False Negative:', fn)\n",
        "    \n",
        "    print('')\n",
        "    \n",
        "    precision = tp/(tp+fp)\n",
        "    recall = tp/(tp+fn)\n",
        "    \n",
        "    print('Precision:', precision)\n",
        "    print('Recall:', recall)\n",
        "    print('F1-Score:', 2 * (precision * recall)/(precision + recall))\n",
        "    "
      ],
      "metadata": {
        "id": "Ojejy6QnS5nM"
      },
      "execution_count": 130,
      "outputs": []
    },
    {
      "cell_type": "code",
      "source": [
        "base_model = RandomForestClassifier()\n",
        "base_model.fit(x_train_data, y_train_data)\n",
        "evaluate(base_model)"
      ],
      "metadata": {
        "colab": {
          "base_uri": "https://localhost:8080/"
        },
        "id": "ieij0YHQTVen",
        "outputId": "7c580ab5-debc-4535-871c-165dabfac17f"
      },
      "execution_count": 131,
      "outputs": [
        {
          "output_type": "stream",
          "name": "stderr",
          "text": [
            "/usr/local/lib/python3.7/dist-packages/ipykernel_launcher.py:2: DataConversionWarning: A column-vector y was passed when a 1d array was expected. Please change the shape of y to (n_samples,), for example using ravel().\n",
            "  \n"
          ]
        },
        {
          "output_type": "stream",
          "name": "stdout",
          "text": [
            "Accuracy: 0.9543650793650794\n",
            "------\n",
            "Confusion Matrix:\n",
            "\n",
            "              precision    recall  f1-score   support\n",
            "\n",
            "         1.0       0.98      0.97      0.98      1435\n",
            "         2.0       0.55      0.62      0.58        77\n",
            "\n",
            "    accuracy                           0.95      1512\n",
            "   macro avg       0.76      0.80      0.78      1512\n",
            "weighted avg       0.96      0.95      0.96      1512\n",
            "\n",
            "------\n",
            "Assuming 1 as positive, we get:\n",
            "\n",
            "True Positive: 48\n",
            "True Negative: 1395\n",
            "False Positive: 40\n",
            "False Negative: 29\n",
            "\n",
            "Precision: 0.5454545454545454\n",
            "Recall: 0.6233766233766234\n",
            "F1-Score: 0.5818181818181818\n"
          ]
        }
      ]
    },
    {
      "cell_type": "markdown",
      "source": [
        "##**Undersampling**"
      ],
      "metadata": {
        "id": "VQuCsveMVyj9"
      }
    },
    {
      "cell_type": "code",
      "source": [
        "# import random undersampling library \n",
        "from collections import Counter\n",
        "from imblearn.under_sampling import RandomUnderSampler\n",
        "import warnings\n",
        "warnings.simplefilter(action='ignore', category=FutureWarning)\n",
        "\n",
        "# summarize class distribution\n",
        "print(Counter(y_train_data['Labor_Stat']))\n",
        "\n",
        "# define undersample strategy\n",
        "undersample = RandomUnderSampler(sampling_strategy='majority')\n",
        "\n",
        "# fit and apply the transform\n",
        "x_train_under, y_train_under = undersample.fit_resample(x_train_data, \n",
        "                                                        y_train_data)\n",
        "\n",
        "# summarize class distribution\n",
        "print(Counter(y_train_under['Labor_Stat']))"
      ],
      "metadata": {
        "colab": {
          "base_uri": "https://localhost:8080/"
        },
        "id": "hj3d0P7IV1y6",
        "outputId": "cd43f71b-0404-404f-a6a1-cc7b53a1610a"
      },
      "execution_count": 132,
      "outputs": [
        {
          "output_type": "stream",
          "name": "stdout",
          "text": [
            "Counter({1.0: 5740, 2.0: 305})\n",
            "Counter({1.0: 305, 2.0: 305})\n"
          ]
        }
      ]
    },
    {
      "cell_type": "code",
      "source": [
        "under_model = RandomForestClassifier()\n",
        "under_model.fit(x_train_under, y_train_under)\n",
        "evaluate(under_model, x_test_data, y_test_data)"
      ],
      "metadata": {
        "colab": {
          "base_uri": "https://localhost:8080/"
        },
        "id": "i4VofPSwWH_m",
        "outputId": "b2dce741-cdd9-45cc-ca25-6bcec815579a"
      },
      "execution_count": 133,
      "outputs": [
        {
          "output_type": "stream",
          "name": "stdout",
          "text": [
            "Accuracy: 0.9503968253968254\n",
            "------\n",
            "Confusion Matrix:\n",
            "\n",
            "              precision    recall  f1-score   support\n",
            "\n",
            "         1.0       1.00      0.95      0.97      1435\n",
            "         2.0       0.51      1.00      0.67        77\n",
            "\n",
            "    accuracy                           0.95      1512\n",
            "   macro avg       0.75      0.97      0.82      1512\n",
            "weighted avg       0.97      0.95      0.96      1512\n",
            "\n",
            "------\n",
            "Assuming 1 as positive, we get:\n",
            "\n",
            "True Positive: 77\n",
            "True Negative: 1360\n",
            "False Positive: 75\n",
            "False Negative: 0\n",
            "\n",
            "Precision: 0.506578947368421\n",
            "Recall: 1.0\n",
            "F1-Score: 0.6724890829694323\n"
          ]
        },
        {
          "output_type": "stream",
          "name": "stderr",
          "text": [
            "/usr/local/lib/python3.7/dist-packages/ipykernel_launcher.py:2: DataConversionWarning: A column-vector y was passed when a 1d array was expected. Please change the shape of y to (n_samples,), for example using ravel().\n",
            "  \n"
          ]
        }
      ]
    },
    {
      "cell_type": "code",
      "source": [],
      "metadata": {
        "id": "AqvmwoHnWaH9"
      },
      "execution_count": null,
      "outputs": []
    },
    {
      "cell_type": "markdown",
      "source": [
        "##**Oversampling**"
      ],
      "metadata": {
        "id": "wnub6gKYWarE"
      }
    },
    {
      "cell_type": "code",
      "source": [
        "# import random undersampling library \n",
        "from collections import Counter\n",
        "from imblearn.over_sampling import SMOTE\n",
        "import warnings\n",
        "warnings.simplefilter(action='ignore', category=FutureWarning)\n",
        "\n",
        "# summarize class distribution\n",
        "print(Counter(y_train_data['Labor_Stat']))\n",
        "\n",
        "# define undersample strategy\n",
        "SMOTE = SMOTE()\n",
        "\n",
        "# fit and apply the transform\n",
        "x_train_SMOTE, y_train_SMOTE = SMOTE.fit_resample(x_train_data, y_train_data)\n",
        "\n",
        "# summarize class distribution\n",
        "print(Counter(y_train_SMOTE['Labor_Stat']))"
      ],
      "metadata": {
        "colab": {
          "base_uri": "https://localhost:8080/"
        },
        "id": "U4bH6g9oWfKX",
        "outputId": "724f6b42-d485-48e8-c451-7804a038c236"
      },
      "execution_count": 134,
      "outputs": [
        {
          "output_type": "stream",
          "name": "stdout",
          "text": [
            "Counter({1.0: 5740, 2.0: 305})\n",
            "Counter({1.0: 5740, 2.0: 5740})\n"
          ]
        }
      ]
    },
    {
      "cell_type": "code",
      "source": [
        "over_model = RandomForestClassifier()\n",
        "over_model.fit(x_train_SMOTE, y_train_SMOTE)\n",
        "evaluate(over_model, x_test_data, y_test_data)"
      ],
      "metadata": {
        "colab": {
          "base_uri": "https://localhost:8080/"
        },
        "id": "RNLEKwpDWlCE",
        "outputId": "7de95297-80eb-4e09-a517-883dec74d80f"
      },
      "execution_count": 135,
      "outputs": [
        {
          "output_type": "stream",
          "name": "stderr",
          "text": [
            "/usr/local/lib/python3.7/dist-packages/ipykernel_launcher.py:2: DataConversionWarning: A column-vector y was passed when a 1d array was expected. Please change the shape of y to (n_samples,), for example using ravel().\n",
            "  \n"
          ]
        },
        {
          "output_type": "stream",
          "name": "stdout",
          "text": [
            "Accuracy: 0.9576719576719577\n",
            "------\n",
            "Confusion Matrix:\n",
            "\n",
            "              precision    recall  f1-score   support\n",
            "\n",
            "         1.0       0.98      0.97      0.98      1435\n",
            "         2.0       0.57      0.71      0.63        77\n",
            "\n",
            "    accuracy                           0.96      1512\n",
            "   macro avg       0.78      0.84      0.80      1512\n",
            "weighted avg       0.96      0.96      0.96      1512\n",
            "\n",
            "------\n",
            "Assuming 1 as positive, we get:\n",
            "\n",
            "True Positive: 55\n",
            "True Negative: 1393\n",
            "False Positive: 42\n",
            "False Negative: 22\n",
            "\n",
            "Precision: 0.5670103092783505\n",
            "Recall: 0.7142857142857143\n",
            "F1-Score: 0.6321839080459771\n"
          ]
        }
      ]
    },
    {
      "cell_type": "markdown",
      "source": [
        "# Modelling Evaluation\n",
        "\n",
        "Metode terbaik dari evaluasi di atas adalah **Random Forest Undersampling** dengan pertimbangan:\n",
        "- F1 nya paling besar diantara 3 metode\n",
        "- Recall nya paling tinggi (1) sesuai dengan tujuan, yaitu ingin mengurangi false negatif (diklasifikasi pekerja ternyata pengangguran)\n"
      ],
      "metadata": {
        "id": "vkyjMafyZjnj"
      }
    }
  ]
}